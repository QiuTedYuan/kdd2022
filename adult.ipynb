{
 "cells": [
  {
   "cell_type": "code",
   "execution_count": 1,
   "id": "c2d5b6e6",
   "metadata": {},
   "outputs": [],
   "source": [
    "import random\n",
    "import math\n",
    "import numpy as np\n",
    "from collections import Counter\n",
    "from matplotlib import pyplot as plt"
   ]
  },
  {
   "cell_type": "code",
   "execution_count": 2,
   "id": "6ce4a9ca",
   "metadata": {},
   "outputs": [],
   "source": [
    "def pow_16_():\n",
    "    a = []\n",
    "    for i in range(16):\n",
    "        a.append(16 ** i)\n",
    "    return a\n",
    "\n",
    "pow_16 = pow_16_()"
   ]
  },
  {
   "cell_type": "code",
   "execution_count": 3,
   "id": "5e30bfc6",
   "metadata": {},
   "outputs": [
    {
     "name": "stdout",
     "output_type": "stream",
     "text": [
      "48842\n"
     ]
    }
   ],
   "source": [
    "# load raw data\n",
    "raw_data = []\n",
    "\n",
    "with open('../data/adult-all.csv') as f:\n",
    "    for line in f:\n",
    "        tokens = line.strip().split(',')\n",
    "        if (len(tokens)!=15):\n",
    "            false_data.append(line)\n",
    "            continue\n",
    "        age, workclass, fnlwgt, education, education_num, marital_status, occupation, \\\n",
    "            relationship, race, sex, capital_gain, capital_loss, hours_per_week, native_country, _ = tokens\n",
    "        raw_data.append((int(age), int(education_num), int(capital_loss)))\n",
    "        \n",
    "n_raw = len(raw_data)\n",
    "print(n_raw)"
   ]
  },
  {
   "cell_type": "code",
   "execution_count": 4,
   "id": "a8d7891d",
   "metadata": {},
   "outputs": [],
   "source": [
    "# transform the dataset on a base of 16\n",
    "# data = (age, edu, coeff, expnt)\n",
    "\n",
    "data = []\n",
    "\n",
    "for t in raw_data:\n",
    "    age = t[0]\n",
    "    edu = t[1]\n",
    "    gain = t[2]\n",
    "    expnt = 0\n",
    "    for i in hex(gain)[2:][::-1]:\n",
    "        if i > '0':\n",
    "            data.append((age, edu, int('0x'+i,16), expnt))\n",
    "        expnt += 1\n",
    "\n",
    "n = len(data)"
   ]
  },
  {
   "cell_type": "code",
   "execution_count": 5,
   "id": "998cd340",
   "metadata": {},
   "outputs": [],
   "source": [
    "# define parameters\n",
    "GS = 4356\n",
    "eps = 1.0\n",
    "u_trans = math.ceil(math.log(GS) / math.log(16))"
   ]
  },
  {
   "cell_type": "code",
   "execution_count": 6,
   "id": "080d2140",
   "metadata": {},
   "outputs": [
    {
     "name": "stdout",
     "output_type": "stream",
     "text": [
      "32395\n"
     ]
    }
   ],
   "source": [
    "# define query\n",
    "Q = []\n",
    "\n",
    "for age_length in range(11):\n",
    "    for age_left in range(1, 101-age_length):\n",
    "        age_right = age_left+age_length\n",
    "        for edu_length in range(2):\n",
    "            for edu_left in range(1, 17-edu_length):\n",
    "                edu_right = edu_left+edu_length\n",
    "                Q.append((age_left, age_right, edu_left, edu_right))\n",
    "print(len(Q))"
   ]
  },
  {
   "cell_type": "code",
   "execution_count": 7,
   "id": "5b8aa05f",
   "metadata": {},
   "outputs": [],
   "source": [
    "def evaluate(q, histogram, tau=GS):\n",
    "    ans = 0\n",
    "    for age in range(q[0], q[1]+1):\n",
    "        for edu in range(q[2], q[3]+1):\n",
    "            for coeff in range(1,16):\n",
    "                for expnt in range(u_trans):\n",
    "                    x = (age, edu, coeff, expnt)\n",
    "                    if x in histogram:\n",
    "                        ans += min(coeff * pow_16[expnt],tau) * histogram[x]\n",
    "    return ans\n",
    "\n",
    "def evaluate_counting(q, histogram, tau):\n",
    "    ans = 0\n",
    "    for age in range(q[0], q[1]+1):\n",
    "        for edu in range(q[2], q[3]+1):\n",
    "            for coeff in range(1,16):\n",
    "                for expnt in range(u_trans):\n",
    "                    x = (age, edu, coeff, expnt)\n",
    "                    if (x in histogram) and (coeff * pow_16[expnt] > tau):\n",
    "                        ans += histogram[x]\n",
    "    return ans\n",
    "\n",
    "def evaluate_raw(q, raw_histogram, tau=GS):\n",
    "    ans = 0\n",
    "    for x in raw_histogram:\n",
    "        age, edu, cap = x\n",
    "        if (age >= q[0] and age <= q[1]):\n",
    "            if (edu >= q[2] and edu <= q[3]):\n",
    "                ans += min(cap, tau) * raw_histogram[x]\n",
    "    return ans\n",
    "\n",
    "def evaluate_counting_raw(q, raw_histogram, tau):\n",
    "    ans = 0\n",
    "    for x in raw_histogram:\n",
    "        age, edu, cap = x\n",
    "        if (age >= q[0] and age <= q[1]):\n",
    "            if (edu >= q[2] and edu <= q[3]):\n",
    "                if (cap > tau):\n",
    "                    ans += raw_histogram[x]\n",
    "    return ans"
   ]
  },
  {
   "cell_type": "code",
   "execution_count": 8,
   "id": "495f50b3",
   "metadata": {},
   "outputs": [],
   "source": [
    "# Calculate true results\n",
    "raw_histogram = Counter(raw_data)\n",
    "histogram = Counter(data)\n",
    "results = [evaluate(q, histogram) for q in Q]"
   ]
  },
  {
   "cell_type": "markdown",
   "id": "42371872",
   "metadata": {},
   "source": [
    "# Composition"
   ]
  },
  {
   "cell_type": "code",
   "execution_count": 9,
   "id": "0fa48e37",
   "metadata": {},
   "outputs": [],
   "source": [
    "eps_0 = eps / (2*len(Q))\n",
    "\n",
    "results_compo = []\n",
    "for q_idx in range(len(Q)):\n",
    "    q = Q[q_idx]\n",
    "    T = np.random.laplace(0, 2 / eps_0) # threshold to compare with\n",
    "    \n",
    "    c = evaluate_counting_raw(q, raw_histogram, 0)\n",
    "    if (c + np.random.laplace(0, 4 / eps_0) < T):\n",
    "        results_compo.append(0)\n",
    "        continue\n",
    "        \n",
    "    # else    \n",
    "    tau = 1\n",
    "    while (tau < GS):\n",
    "        c = evaluate_counting_raw(q, raw_histogram, tau)\n",
    "        if (c + np.random.laplace(0, 4 / eps_0) < T):\n",
    "            ans = evaluate_raw(q, raw_histogram, tau)\n",
    "            results_compo.append(ans + np.random.laplace(0, tau / eps_0))\n",
    "            break\n",
    "        else:\n",
    "            tau = 2 * tau\n",
    "    if (tau >= GS):\n",
    "        results_compo.append(results[q_idx] + np.random.laplace(0, GS / eps_0))\n",
    "\n",
    "errors_compo = [x-y for x,y in zip(results_compo, results)]"
   ]
  },
  {
   "cell_type": "markdown",
   "id": "0bf73acd",
   "metadata": {},
   "source": [
    "# Normalization / Global Truncation"
   ]
  },
  {
   "cell_type": "code",
   "execution_count": 10,
   "id": "113c5280",
   "metadata": {},
   "outputs": [
    {
     "name": "stdout",
     "output_type": "stream",
     "text": [
      "iteration: 0\n",
      "iteration: 1\n",
      "iteration: 2\n",
      "iteration: 3\n",
      "iteration: 4\n",
      "iteration: 5\n",
      "iteration: 6\n",
      "iteration: 7\n",
      "iteration: 8\n",
      "iteration: 9\n"
     ]
    }
   ],
   "source": [
    "T = 10\n",
    "eps_0 = eps / u_trans / (2*T)\n",
    "universe_size = 100 * 16 * 15 * u_trans\n",
    "synthetic_histogram = {}\n",
    "\n",
    "for age in range(1, 101):\n",
    "    for edu in range(1, 17):\n",
    "        for coeff in range(1,16):\n",
    "            for expnt in range(u_trans):\n",
    "                synthetic_histogram[(age, edu, coeff, expnt)] = n / universe_size\n",
    "\n",
    "measurements = {}\n",
    "for i in range(T):\n",
    "    print(\"iteration: \"+str(i))   \n",
    "    errors = np.array([])\n",
    "    for qi in range(len(Q)):\n",
    "        q = Q[qi]\n",
    "        errors = np.append(errors, eps_0 * abs(results[qi] - evaluate(q, synthetic_histogram)) / GS / 2.0)\n",
    "    max_error = errors.max() \n",
    "    for qi in range(len(errors)):\n",
    "        if qi in measurements:\n",
    "            errors[qi] = 0.0\n",
    "        else:\n",
    "            errors[qi] = math.exp(errors[qi]-max_error)\n",
    "    qi = np.random.choice(range(len(errors)), p=errors / np.sum(errors))\n",
    "    \n",
    "    measurements[qi] = evaluate(Q[qi], histogram) + np.random.laplace(0, 1.0 / eps_0)\n",
    "    \n",
    "    total = sum(synthetic_histogram.values())\n",
    "    for iteration in range(100):\n",
    "        for qi in measurements:\n",
    "            q = Q[qi]\n",
    "            error = (measurements[qi] - evaluate(q, synthetic_histogram)) / GS\n",
    "            for age in range(q[0], q[1]+1):\n",
    "                    for edu in range(q[2], q[3]+1):\n",
    "                        for coeff in range(1,16):\n",
    "                            for expnt in range(u_trans):\n",
    "                                synthetic_histogram[(age, edu, coeff, expnt)] *= math.exp(coeff * pow_16[expnt] / GS * error / (2.0 * total))\n",
    "            count = sum(synthetic_histogram.values())\n",
    "            synthetic_histogram = {k: v*total / count for k,v in synthetic_histogram.items()}\n",
    "\n",
    "synthetic_histogram_norm = synthetic_histogram\n",
    "results_norm = [evaluate(q, synthetic_histogram_norm) for q in Q]\n",
    "errors_norm = [x-y for x,y in zip(results_norm, results)]"
   ]
  },
  {
   "cell_type": "markdown",
   "id": "428a2a62",
   "metadata": {},
   "source": [
    "# Ours"
   ]
  },
  {
   "cell_type": "code",
   "execution_count": 11,
   "id": "c58080ef",
   "metadata": {},
   "outputs": [
    {
     "name": "stdout",
     "output_type": "stream",
     "text": [
      "iteration: 0\n",
      "iteration: 1\n",
      "iteration: 2\n",
      "iteration: 3\n",
      "iteration: 4\n",
      "iteration: 5\n",
      "iteration: 6\n",
      "iteration: 7\n",
      "iteration: 8\n",
      "iteration: 9\n"
     ]
    }
   ],
   "source": [
    "T = 10\n",
    "eps_0 = eps * 0.9 / u_trans / (2*T)\n",
    "universe_size = 100 * 16 * 15 * u_trans\n",
    "synthetic_histogram = {}\n",
    "\n",
    "tau_mult = 4\n",
    "log_tau_mult = int(math.ceil(math.log(GS) / math.log(tau_mult)))\n",
    "\n",
    "for age in range(1, 101):\n",
    "    for edu in range(1, 17):\n",
    "        for coeff in range(1,16):\n",
    "            for expnt in range(u_trans):\n",
    "                synthetic_histogram[(age, edu, coeff, expnt)] = n / universe_size\n",
    "\n",
    "def evaluate_qi(qi, histogram, Q):\n",
    "    q = Q[qi // (2*log_tau_mult+2)]\n",
    "    tau = (qi % (2*log_tau_mult+2) + 1) // 2\n",
    "    if qi % 2 == 0:\n",
    "        return evaluate_counting(q, histogram, tau)\n",
    "    else:\n",
    "        return evaluate(q, histogram, tau) / tau\n",
    "\n",
    "measurements = {}\n",
    "for i in range(T):\n",
    "    print(\"iteration: \"+str(i))\n",
    "    errors = np.array([])\n",
    "    for q in Q:\n",
    "        errors = np.append(errors, eps_0 * abs(evaluate_counting(q, histogram, 0) - evaluate_counting(q, synthetic_histogram, 0)) / 2.0) # counting tau = 0\n",
    "        tau = 1\n",
    "        while tau < GS:\n",
    "            errors = np.append(errors, \\\n",
    "                               [eps_0 * abs(evaluate(q, histogram, tau) - evaluate(q, synthetic_histogram, tau)) / tau / 2.0,  # truncated by tau \\\n",
    "                                eps_0 * abs(evaluate_counting(q, histogram, tau) - evaluate_counting(q, synthetic_histogram, tau)) / 2.0]) # counting tau\n",
    "            tau *= tau_mult\n",
    "        errors = np.append(errors, eps_0 * abs(evaluate(q, histogram, GS) - evaluate(q, synthetic_histogram, GS)) / GS / 2.0)\n",
    "    max_error = errors.max() \n",
    "    for qi in range(len(errors)):\n",
    "        if qi in measurements:\n",
    "            errors[qi] = 0.0\n",
    "        else:\n",
    "            errors[qi] = math.exp(errors[qi]-max_error)\n",
    "    qi = np.random.choice(range(len(errors)), p=errors / np.sum(errors))\n",
    "    \n",
    "    measurements[qi] = evaluate_qi(qi, histogram, Q) + np.random.laplace(0, 1.0 / eps_0)\n",
    "\n",
    "    total = sum(synthetic_histogram.values())\n",
    "    for iteration in range(100):\n",
    "        for qi in measurements:\n",
    "            q = Q[qi // (2*log_tau_mult+2)]\n",
    "            tau = (qi % (2*log_tau_mult+2) + 1) // 2\n",
    "            error = measurements[qi] - evaluate_qi(qi, synthetic_histogram, Q)\n",
    "            for age in range(q[0], q[1]+1):\n",
    "                for edu in range(q[2], q[3]+1):\n",
    "                    for coeff in range(1,16):\n",
    "                        for expnt in range(u_trans):\n",
    "                            if (qi % 2 == 0): # counting\n",
    "                                synthetic_histogram[(age, edu, coeff, expnt)] *= math.exp(int(coeff * pow_16[expnt] > tau) * error / (2.0 * total))\n",
    "                            else: # trunc\n",
    "                                synthetic_histogram[(age, edu, coeff, expnt)] *= math.exp(min(coeff * pow_16[expnt], tau) / tau * error / (2.0 * total))\n",
    "            count = sum(synthetic_histogram.values())\n",
    "            synthetic_histogram = {k: v*total / count for k,v in synthetic_histogram.items()}\n",
    "    \n",
    "synthetic_histogram_trunc = synthetic_histogram"
   ]
  },
  {
   "cell_type": "code",
   "execution_count": 12,
   "id": "75891442",
   "metadata": {},
   "outputs": [
    {
     "name": "stdout",
     "output_type": "stream",
     "text": [
      "791.4112488484228\n"
     ]
    }
   ],
   "source": [
    "results_trunc = []\n",
    "\n",
    "errors = np.array([])\n",
    "for q in Q:\n",
    "    errors = np.append(errors, eps_0 * abs(evaluate_counting(q, histogram, 0) - evaluate_counting(q, synthetic_histogram_trunc, 0)) / 2.0) # counting tau = 0\n",
    "    tau = 1\n",
    "    while tau < GS:\n",
    "        errors = np.append(errors, \\\n",
    "                           [abs(evaluate(q, histogram, tau) - evaluate(q, synthetic_histogram_trunc, tau)) / tau,  # truncated by tau \\\n",
    "                            abs(evaluate_counting(q, histogram, tau) - evaluate_counting(q, synthetic_histogram_trunc, tau))]) # counting tau\n",
    "        tau *= tau_mult\n",
    "max_error = errors.max() + np.random.laplace(0, 10 / eps)\n",
    "print(max_error)\n",
    "\n",
    "for q in Q:\n",
    "    tau = 0\n",
    "    c = evaluate_counting(q, synthetic_histogram_trunc, 0)\n",
    "    if c <= max_error:\n",
    "        results_trunc.append(0)\n",
    "    else:\n",
    "        R = 1\n",
    "        while R < GS:\n",
    "            ans = evaluate_counting(q, synthetic_histogram_trunc, R)\n",
    "            if ans <= max_error:\n",
    "                break\n",
    "            else:\n",
    "                R = tau_mult * R\n",
    "        tau = min(GS, R)\n",
    "        res = evaluate(q, synthetic_histogram_trunc, tau)\n",
    "        results_trunc.append(res)\n",
    "\n",
    "errors_trunc = [x-y for x,y in zip(results_trunc, results)]"
   ]
  },
  {
   "cell_type": "code",
   "execution_count": 13,
   "id": "bd35d343",
   "metadata": {},
   "outputs": [
    {
     "data": {
      "image/png": "[encoded data removed]",
      "text/plain": [
       "<Figure size 432x288 with 1 Axes>"
      ]
     },
     "metadata": {
      "needs_background": "light"
     },
     "output_type": "display_data"
    }
   ],
   "source": [
    "plt.ylabel('Error')\n",
    "plt.boxplot([[abs(x) for x in errors_compo], [abs(x) for x in errors_norm], [abs(x) for x in errors_trunc]], \\\n",
    "            labels=['Composition', 'Normalization/Global', 'Ours'], whis=(25,100), showfliers=False)\n",
    "plt.yscale(\"symlog\")\n",
    "plt.show()"
   ]
  },
  {
   "cell_type": "code",
   "execution_count": null,
   "id": "9474ea7b",
   "metadata": {},
   "outputs": [],
   "source": []
  }
 ],
 "metadata": {
  "kernelspec": {
   "display_name": "Python 3",
   "language": "python",
   "name": "python3"
  },
  "language_info": {
   "codemirror_mode": {
    "name": "ipython",
    "version": 3
   },
   "file_extension": ".py",
   "mimetype": "text/x-python",
   "name": "python",
   "nbconvert_exporter": "python",
   "pygments_lexer": "ipython3",
   "version": "3.8.8"
  }
 },
 "nbformat": 4,
 "nbformat_minor": 5
}
