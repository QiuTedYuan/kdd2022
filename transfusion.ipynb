{
 "cells": [
  {
   "cell_type": "code",
   "execution_count": 1,
   "id": "58549c57",
   "metadata": {},
   "outputs": [],
   "source": [
    "import random\n",
    "import math\n",
    "import numpy as np\n",
    "from collections import Counter\n",
    "from matplotlib import pyplot as plt"
   ]
  },
  {
   "cell_type": "code",
   "execution_count": 2,
   "id": "85aa5268",
   "metadata": {},
   "outputs": [
    {
     "name": "stdout",
     "output_type": "stream",
     "text": [
      "748\n"
     ]
    }
   ],
   "source": [
    "raw_data = []\n",
    "\n",
    "with open('../data/transfusion.data') as f:\n",
    "    f.readline()\n",
    "    for line in f:\n",
    "        tokens = line.strip().split(',')\n",
    "        recency, frequency, monetary, time, _ = tokens\n",
    "        assert(int(monetary)==int(frequency)*250)\n",
    "        raw_data.append((int(frequency), int(time)))\n",
    "n = len(raw_data)\n",
    "print(n)"
   ]
  },
  {
   "cell_type": "code",
   "execution_count": 3,
   "id": "e1bf96d3",
   "metadata": {},
   "outputs": [],
   "source": [
    "GS = 800\n",
    "eps = 1\n",
    "u_trans = math.ceil(math.log(GS) / math.log(16))"
   ]
  },
  {
   "cell_type": "code",
   "execution_count": 4,
   "id": "6749ccd9",
   "metadata": {},
   "outputs": [
    {
     "name": "stdout",
     "output_type": "stream",
     "text": [
      "1275\n"
     ]
    }
   ],
   "source": [
    "Q = []\n",
    "Delta_w = []\n",
    "for left in range(1,51):\n",
    "    for right in range(left, 51):\n",
    "        Q.append((left, right))\n",
    "        Delta_w.append(GS/left)\n",
    "print(len(Q))"
   ]
  },
  {
   "cell_type": "code",
   "execution_count": 5,
   "id": "65c5d0e0",
   "metadata": {},
   "outputs": [],
   "source": [
    "def evaluate(q, raw_histogram, tau=GS):\n",
    "    ans = 0\n",
    "    for x in raw_histogram:\n",
    "        frequency, time = x\n",
    "        if (frequency >= q[0] and frequency <= q[1]):\n",
    "            ans += min(time / frequency, tau) * raw_histogram[x]\n",
    "    return ans\n",
    "\n",
    "# evaluate a counting query c_{q,tau} on the raw histogram\n",
    "def evaluate_counting(q, raw_histogram, tau):\n",
    "    ans = 0\n",
    "    for x in raw_histogram:\n",
    "        frequency, time = x\n",
    "        if (frequency >= q[0] and frequency <= q[1]):\n",
    "            if (time/frequency > tau):\n",
    "                ans += raw_histogram[x]\n",
    "    return ans"
   ]
  },
  {
   "cell_type": "code",
   "execution_count": 6,
   "id": "af5d575e",
   "metadata": {},
   "outputs": [],
   "source": [
    "# Calculate true results\n",
    "histogram = Counter(raw_data)\n",
    "results = [evaluate(q, histogram) for q in Q]"
   ]
  },
  {
   "cell_type": "markdown",
   "id": "e229f065",
   "metadata": {},
   "source": [
    "# Composition"
   ]
  },
  {
   "cell_type": "code",
   "execution_count": 7,
   "id": "81305a2c",
   "metadata": {},
   "outputs": [],
   "source": [
    "eps_0 = eps / (2*len(Q))\n",
    "\n",
    "results_compo = []\n",
    "for qi in range(len(Q)):\n",
    "    q = Q[qi]\n",
    "    T = np.random.laplace(0, 2 / eps_0) # threshold to compare with\n",
    "    \n",
    "    c = evaluate_counting(q, histogram, 0)\n",
    "    if (c + np.random.laplace(0, 4 / eps_0) <= T):\n",
    "        results_compo.append(0)\n",
    "        continue\n",
    "        \n",
    "    # else    \n",
    "    tau = 1\n",
    "    while (tau < Delta_w[qi]):\n",
    "        c = evaluate_counting(q, histogram, tau)\n",
    "        if (c + np.random.laplace(0, 4 / eps_0) <= T):\n",
    "            ans = evaluate(q, histogram, tau)\n",
    "            results_compo.append(ans + np.random.laplace(0, tau / eps_0))\n",
    "            break\n",
    "        else:\n",
    "            tau = 2 * tau\n",
    "    if (tau >= Delta_w[qi]):\n",
    "        results_compo.append(results[qi] + np.random.laplace(0, Delta_w[qi] / eps_0))\n",
    "\n",
    "errors_compo = [x-y for x,y in zip(results_compo, results)]"
   ]
  },
  {
   "cell_type": "markdown",
   "id": "8cf746ea",
   "metadata": {},
   "source": [
    "# Normalization"
   ]
  },
  {
   "cell_type": "code",
   "execution_count": 8,
   "id": "53179784",
   "metadata": {},
   "outputs": [
    {
     "name": "stdout",
     "output_type": "stream",
     "text": [
      "iteration: 0\n",
      "iteration: 1\n",
      "iteration: 2\n",
      "iteration: 3\n",
      "iteration: 4\n",
      "iteration: 5\n",
      "iteration: 6\n",
      "iteration: 7\n",
      "iteration: 8\n",
      "iteration: 9\n"
     ]
    }
   ],
   "source": [
    "T = 10\n",
    "eps_0 = eps / (2*T)\n",
    "universe_size = GS * 50\n",
    "synthetic_histogram = {}\n",
    "\n",
    "for frequency in range(1, 51):\n",
    "    for time in range(1, GS+1):\n",
    "        synthetic_histogram[(frequency, time)] = n / universe_size\n",
    "\n",
    "measurements = {}\n",
    "for i in range(T):\n",
    "    print(\"iteration: \"+str(i))   \n",
    "\n",
    "    errors = np.array([])\n",
    "    for qi in range(len(Q)):\n",
    "        q = Q[qi]\n",
    "        errors = np.append(errors, eps_0 * abs(results[qi] - evaluate(q, synthetic_histogram)) / Delta_w[qi] / 2.0)\n",
    "    max_error = errors.max() \n",
    "    for qi in range(len(errors)):\n",
    "        if qi in measurements:\n",
    "            errors[qi] = 0.0\n",
    "        else:\n",
    "            errors[qi] = math.exp(errors[qi]-max_error)\n",
    "    qi = np.random.choice(range(len(errors)), p=errors / np.sum(errors))\n",
    "    \n",
    "    measurements[qi] = evaluate(Q[qi], histogram) + np.random.laplace(0, 1.0 / eps_0)\n",
    "    \n",
    "    total = sum(synthetic_histogram.values())\n",
    "    for iteration in range(100):\n",
    "        for qi in measurements:\n",
    "            q = Q[qi]\n",
    "            error = (measurements[qi] - evaluate(q, synthetic_histogram)) / Delta_w[qi]\n",
    "            for frequency in range(q[0], q[1]+1):\n",
    "                for time in range(1, GS+1):\n",
    "                    synthetic_histogram[(frequency, time)] *= math.exp(time / frequency / Delta_w[qi] * error / (2.0 * total))\n",
    "            count = sum(synthetic_histogram.values())\n",
    "            synthetic_histogram = {k: v*total / count for k,v in synthetic_histogram.items()}\n",
    "\n",
    "synthetic_histogram_norm = synthetic_histogram\n",
    "results_norm = [evaluate(q, synthetic_histogram_norm) for q in Q]\n",
    "errors_norm = [x-y for x,y in zip(results_norm, results)]"
   ]
  },
  {
   "cell_type": "markdown",
   "id": "3d6601b0",
   "metadata": {},
   "source": [
    "# Global Truncation"
   ]
  },
  {
   "cell_type": "code",
   "execution_count": 9,
   "id": "09591fa2",
   "metadata": {},
   "outputs": [],
   "source": [
    "weights = [x[1]/x[0] for x in raw_data]\n",
    "\n",
    "eps_0 = eps / 2\n",
    "delta_D = GS\n",
    "T = n + np.random.laplace(0, 2 / eps_0)\n",
    "c = sum(x <= 0 for x in weights)\n",
    "if (c + np.random.laplace(0, 4 / eps_0) > T):\n",
    "    delta_D = 0\n",
    "else:\n",
    "    tau = 1\n",
    "    while (tau < GS):\n",
    "        c = sum(x <= tau for x in weights)\n",
    "        if (c + np.random.laplace(0, 4 / eps_0) > T):\n",
    "            delta_D = tau\n",
    "            break\n",
    "        else:\n",
    "            tau = 2 * tau"
   ]
  },
  {
   "cell_type": "code",
   "execution_count": 10,
   "id": "4a39e804",
   "metadata": {},
   "outputs": [
    {
     "name": "stdout",
     "output_type": "stream",
     "text": [
      "iteration: 0\n",
      "iteration: 1\n",
      "iteration: 2\n",
      "iteration: 3\n",
      "iteration: 4\n",
      "iteration: 5\n",
      "iteration: 6\n",
      "iteration: 7\n",
      "iteration: 8\n",
      "iteration: 9\n"
     ]
    }
   ],
   "source": [
    "T = 10\n",
    "eps_0 = eps / 2 / (2*T)\n",
    "universe_size = GS * 50\n",
    "synthetic_histogram = {}\n",
    "\n",
    "for frequency in range(1, 51):\n",
    "    for time in range(1, GS+1):\n",
    "        synthetic_histogram[(frequency, time)] = n / universe_size\n",
    "\n",
    "measurements = {}\n",
    "for i in range(T):\n",
    "    print(\"iteration: \"+str(i))   \n",
    "\n",
    "    errors = np.array([])\n",
    "    for qi in range(len(Q)):\n",
    "        q = Q[qi]\n",
    "        errors = np.append(errors, eps_0 * abs(results[qi] - evaluate(q, synthetic_histogram)) / delta_D / 2.0)\n",
    "    max_error = errors.max() \n",
    "    for qi in range(len(errors)):\n",
    "        if qi in measurements:\n",
    "            errors[qi] = 0.0\n",
    "        else:\n",
    "            errors[qi] = math.exp(errors[qi]-max_error)\n",
    "    qi = np.random.choice(range(len(errors)), p=errors / np.sum(errors))\n",
    "    \n",
    "    measurements[qi] = evaluate(Q[qi], histogram) + np.random.laplace(0, 1.0 / eps_0)\n",
    "    \n",
    "    total = sum(synthetic_histogram.values())\n",
    "    for iteration in range(100):\n",
    "        for qi in measurements:\n",
    "            q = Q[qi]\n",
    "            error = (measurements[qi] - evaluate(q, synthetic_histogram)) / delta_D\n",
    "            for frequency in range(q[0], q[1]+1):\n",
    "                for time in range(1, GS+1):\n",
    "                    synthetic_histogram[(frequency, time)] *= math.exp(time / frequency / delta_D * error / (2.0 * total))\n",
    "            count = sum(synthetic_histogram.values())\n",
    "            synthetic_histogram = {k: v*total / count for k,v in synthetic_histogram.items()}\n",
    "\n",
    "synthetic_histogram_glb = synthetic_histogram\n",
    "results_glb = [evaluate(q, synthetic_histogram_glb) for q in Q]\n",
    "errors_glb = [x-y for x,y in zip(results_glb, results)]"
   ]
  },
  {
   "cell_type": "markdown",
   "id": "c15e0e9b",
   "metadata": {},
   "source": [
    "# Ours"
   ]
  },
  {
   "cell_type": "code",
   "execution_count": 11,
   "id": "e44d6e47",
   "metadata": {},
   "outputs": [
    {
     "name": "stdout",
     "output_type": "stream",
     "text": [
      "iteration: 0\n",
      "iteration: 1\n",
      "iteration: 2\n",
      "iteration: 3\n",
      "iteration: 4\n",
      "iteration: 5\n",
      "iteration: 6\n",
      "iteration: 7\n",
      "iteration: 8\n",
      "iteration: 9\n"
     ]
    }
   ],
   "source": [
    "T = 10\n",
    "eps_0 = eps * 0.9 / (2*T)\n",
    "universe_size = GS * 50\n",
    "synthetic_histogram = {}\n",
    "\n",
    "tau_mult = 2\n",
    "log_tau_mult = int(math.ceil(math.log(GS) / math.log(tau_mult)))\n",
    "\n",
    "for frequency in range(1, 51):\n",
    "    for time in range(1, GS+1):\n",
    "        synthetic_histogram[(frequency, time)] = n / universe_size\n",
    "\n",
    "measurements = {}\n",
    "\n",
    "dic = []\n",
    "for qi in range(len(Q)):\n",
    "    dic.append((qi, 0, 0))\n",
    "    tau = 1\n",
    "    while tau < Delta_w[qi]:\n",
    "        dic.append((qi, 1, tau))\n",
    "        dic.append((qi, 0, tau))\n",
    "        tau *= tau_mult\n",
    "    dic.append((qi, 1, Delta_w[qi]))\n",
    "\n",
    "def evaluate_qi(qi, histogram, Q):\n",
    "    qii, flag, tau = dic[qi]\n",
    "    if flag == 1:\n",
    "        return evaluate(Q[qii], histogram, tau) / tau + np.random.laplace(0, 1.0 / eps_0)\n",
    "    else:\n",
    "        return evaluate_counting(Q[qii], histogram, tau) + np.random.laplace(0, 1.0 / eps_0)\n",
    "\n",
    "for i in range(T):\n",
    "    print(\"iteration: \"+str(i))\n",
    "    errors = np.array([])\n",
    "\n",
    "    for qi in range(len(Q)):\n",
    "        q = Q[qi]\n",
    "        errors = np.append(errors, eps_0 * abs(evaluate_counting(q, histogram, 0) - evaluate_counting(q, synthetic_histogram, 0)) / 2.0) # counting tau = 0\n",
    "        tau = 1\n",
    "        while tau < Delta_w[qi]:\n",
    "            errors = np.append(errors, \\\n",
    "                               [eps_0 * abs(evaluate(q, histogram, tau) - evaluate(q, synthetic_histogram, tau)) / tau / 2.0,  # truncated by tau \\\n",
    "                                eps_0 * abs(evaluate_counting(q, histogram, tau) - evaluate_counting(q, synthetic_histogram, tau)) / 2.0]) # counting tau\n",
    "\n",
    "            tau *= tau_mult\n",
    "        errors = np.append(errors, eps_0 * abs(evaluate(q, histogram, Delta_w[qi]) - evaluate(q, synthetic_histogram, Delta_w[qi])) / Delta_w[qi] / 2.0)\n",
    "    max_error = errors.max() \n",
    "    for qi in range(len(errors)):\n",
    "        if qi in measurements:\n",
    "            errors[qi] = 0.0\n",
    "        else:\n",
    "            errors[qi] = math.exp(errors[qi]-max_error)\n",
    "    qi = np.random.choice(range(len(errors)), p=errors / np.sum(errors))\n",
    "    \n",
    "    measurements[qi] = evaluate_qi(qi, histogram, Q)\n",
    "                                   \n",
    "    total = sum(synthetic_histogram.values())\n",
    "    for iteration in range(100):\n",
    "        for qi in measurements:\n",
    "            qii, flag, tau = dic[qi]\n",
    "            q = Q[qii]\n",
    "                                   \n",
    "            error = measurements[qi] - evaluate_qi(qi, synthetic_histogram, Q)\n",
    "            for frequency in range(q[0], q[1]+1):\n",
    "                for time in range(1, GS+1):\n",
    "                    if (flag == 0): # counting\n",
    "                        synthetic_histogram[(frequency, time)] *= math.exp(int(time / frequency > tau) * error / (2.0 * total))\n",
    "                    else: # trunc\n",
    "                        synthetic_histogram[(frequency, time)] *= math.exp(min(time / frequency , tau) / tau * error / (2.0 * total))\n",
    "            count = sum(synthetic_histogram.values())\n",
    "            synthetic_histogram = {k: v*total / count for k,v in synthetic_histogram.items()}\n",
    "    \n",
    "synthetic_histogram_trunc = synthetic_histogram"
   ]
  },
  {
   "cell_type": "code",
   "execution_count": 12,
   "id": "093c9303",
   "metadata": {},
   "outputs": [
    {
     "name": "stdout",
     "output_type": "stream",
     "text": [
      "158.4054760936668\n"
     ]
    }
   ],
   "source": [
    "results_trunc = []\n",
    "\n",
    "errors = []\n",
    "for qi in range(len(Q)): \n",
    "    q=Q[qi]\n",
    "    errors.append(abs(evaluate_counting(q, histogram, 0) - evaluate_counting(q, synthetic_histogram_trunc, 0))) # counting tau = 0\n",
    "    tau = 1\n",
    "    while tau < Delta_w[qi]:\n",
    "        errors.append(abs(evaluate_counting(q, histogram, tau) - evaluate_counting(q, synthetic_histogram_trunc, tau))) # counting tau\n",
    "        tau *= tau_mult\n",
    "max_error = max(errors) + np.random.laplace(10 / eps)\n",
    "print(max_error)\n",
    "\n",
    "for qi in range(len(Q)):\n",
    "    q = Q[qi]\n",
    "    tau = 0\n",
    "    c = evaluate_counting(q, synthetic_histogram_trunc, 0)\n",
    "    if c <= max_error:\n",
    "        # tau == 0\n",
    "        results_trunc.append(0)\n",
    "    else:\n",
    "        R = 1\n",
    "        while R < Delta_w[qi]:\n",
    "            c = evaluate_counting(q, synthetic_histogram_trunc, R)\n",
    "            if c <= max_error:\n",
    "                break\n",
    "            else:\n",
    "                R *= tau_mult\n",
    "        tau = min(Delta_w[qi], R)\n",
    "        res = evaluate(q, synthetic_histogram_trunc, tau)\n",
    "        results_trunc.append(res)\n",
    "\n",
    "errors_trunc = [x-y for x,y in zip(results_trunc, results)]"
   ]
  },
  {
   "cell_type": "code",
   "execution_count": 13,
   "id": "4fc82e4f",
   "metadata": {},
   "outputs": [
    {
     "data": {
      "image/png": "[encoded data removed]",
      "text/plain": [
       "<Figure size 432x288 with 1 Axes>"
      ]
     },
     "metadata": {
      "needs_background": "light"
     },
     "output_type": "display_data"
    }
   ],
   "source": [
    "plt.ylabel('Error')\n",
    "plt.boxplot([[abs(x) for x in errors_compo], [abs(x) for x in errors_norm], [abs(x) for x in errors_glb], [abs(x) for x in errors_trunc]], \\\n",
    "            labels=['Composition', 'Normalization', 'GlobalTruncation', 'Ours'], whis=(25,100), showfliers=False)\n",
    "plt.yscale(\"symlog\")\n",
    "plt.show()"
   ]
  },
  {
   "cell_type": "code",
   "execution_count": null,
   "id": "a2a3a704",
   "metadata": {},
   "outputs": [],
   "source": []
  }
 ],
 "metadata": {
  "kernelspec": {
   "display_name": "Python 3",
   "language": "python",
   "name": "python3"
  },
  "language_info": {
   "codemirror_mode": {
    "name": "ipython",
    "version": 3
   },
   "file_extension": ".py",
   "mimetype": "text/x-python",
   "name": "python",
   "nbconvert_exporter": "python",
   "pygments_lexer": "ipython3",
   "version": "3.8.8"
  }
 },
 "nbformat": 4,
 "nbformat_minor": 5
}
