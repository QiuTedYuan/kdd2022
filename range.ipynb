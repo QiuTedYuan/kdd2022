{
 "cells": [
  {
   "cell_type": "code",
   "execution_count": 1,
   "id": "db0dcd5a",
   "metadata": {},
   "outputs": [],
   "source": [
    "import random\n",
    "import math\n",
    "import numpy as np\n",
    "from collections import Counter\n",
    "from matplotlib import pyplot as plt"
   ]
  },
  {
   "cell_type": "code",
   "execution_count": 2,
   "id": "f2423ec9",
   "metadata": {},
   "outputs": [],
   "source": [
    "def pow_16_():\n",
    "    a = []\n",
    "    for i in range(16):\n",
    "        a.append(16 ** i)\n",
    "    return a\n",
    "\n",
    "pow_16 = pow_16_()"
   ]
  },
  {
   "cell_type": "code",
   "execution_count": 3,
   "id": "d6e9f520",
   "metadata": {},
   "outputs": [],
   "source": [
    "def pow_2_():\n",
    "    a = []\n",
    "    for i in range(20):\n",
    "        a.append(2 ** i)\n",
    "    return a\n",
    "\n",
    "pow_2 = pow_2_()"
   ]
  },
  {
   "cell_type": "code",
   "execution_count": 4,
   "id": "5dc035af",
   "metadata": {},
   "outputs": [],
   "source": [
    "raw_data = []\n",
    "\n",
    "with open('../data/bank/bank-full.csv') as f:\n",
    "    f.readline()\n",
    "    for line in f:\n",
    "        tokens = line.strip().split(';')\n",
    "        age, job, marital, education, default, balance, housing, loan, contact, day, month, \\\n",
    "            duration, campaign, pdays, previous, poutcome, _ = tokens\n",
    "        if (int(balance) >= 0):\n",
    "            raw_data.append((int(age), housing=='\"yes\"', loan=='\"yes\"', int(balance)))\n",
    "\n",
    "n_raw = len(raw_data)"
   ]
  },
  {
   "cell_type": "code",
   "execution_count": 5,
   "id": "4b323a32",
   "metadata": {},
   "outputs": [],
   "source": [
    "# transform the dataset on a base of 16\n",
    "# data = (age, edu, coeff, expnt)\n",
    "\n",
    "data = []\n",
    "\n",
    "for t in raw_data:\n",
    "    age = t[0]\n",
    "    housing = t[1]\n",
    "    loan = t[2]\n",
    "    balance = t[3]\n",
    "    expnt = 0\n",
    "    for i in hex(balance)[2:][::-1]:\n",
    "        if i > '0':\n",
    "            data.append((age, housing, loan, int('0x'+i,16), expnt))\n",
    "        expnt += 1\n",
    "        \n",
    "n = len(data)"
   ]
  },
  {
   "cell_type": "code",
   "execution_count": 6,
   "id": "bccc877e",
   "metadata": {},
   "outputs": [],
   "source": [
    "GS = 2 ** 17\n",
    "eps = 1.0\n",
    "u_trans = math.ceil(math.log(GS) / math.log(16))"
   ]
  },
  {
   "cell_type": "code",
   "execution_count": 7,
   "id": "34c87db8",
   "metadata": {},
   "outputs": [
    {
     "name": "stdout",
     "output_type": "stream",
     "text": [
      "4180\n"
     ]
    }
   ],
   "source": [
    "Q = []\n",
    "\n",
    "for age_length in range(11): # 0 - 10\n",
    "    for age_left in range(1, 101-age_length): # [1, 1+length], ... , [100-length,100]\n",
    "        age_right = age_left+age_length\n",
    "        Q.append((age_left, age_right, False, False))\n",
    "        Q.append((age_left, age_right, False, True))\n",
    "        Q.append((age_left, age_right, True, False))\n",
    "        Q.append((age_left, age_right, True, True))\n",
    "\n",
    "print(len(Q))"
   ]
  },
  {
   "cell_type": "code",
   "execution_count": 8,
   "id": "135b7e1f",
   "metadata": {},
   "outputs": [],
   "source": [
    "def evaluate(q, histogram, tau=GS):\n",
    "    ans = 0\n",
    "    for age in range(q[0], q[1]+1):\n",
    "        for coeff in range(1,16):\n",
    "            for expnt in range(u_trans):\n",
    "                x = (age, q[2], q[3], coeff, expnt)\n",
    "                if x in histogram:\n",
    "                    ans += min(coeff * pow_16[expnt],tau) * histogram[x]\n",
    "    return ans\n",
    "\n",
    "def evaluate_counting(q, histogram, tau):\n",
    "    ans = 0\n",
    "    for age in range(q[0], q[1]+1):\n",
    "        for coeff in range(1,16):\n",
    "            for expnt in range(u_trans):\n",
    "                x = (age, q[2], q[3], coeff, expnt)\n",
    "                if (x in histogram) and (coeff * pow_16[expnt] > tau):\n",
    "                    ans += histogram[x]\n",
    "    return ans\n",
    "\n",
    "def evaluate_raw(q, raw_histogram, tau=GS):\n",
    "    ans = 0\n",
    "    for x in raw_histogram:\n",
    "        age, housing, loan, cap = x\n",
    "        if (age >= q[0] and age <= q[1]):\n",
    "            if (housing == q[2] and loan== q[3]):\n",
    "                ans += min(cap, tau) * raw_histogram[x]\n",
    "    return ans\n",
    "\n",
    "def evaluate_counting_raw(q, raw_histogram, tau=0):\n",
    "    ans = 0\n",
    "    for x in raw_histogram:\n",
    "        age, housing, loan, cap = x\n",
    "        if (age >= q[0] and age <= q[1]):\n",
    "            if (housing == q[2] and loan== q[3]):\n",
    "                if (cap > tau):\n",
    "                    ans += raw_histogram[x]\n",
    "    return ans"
   ]
  },
  {
   "cell_type": "code",
   "execution_count": 9,
   "id": "4ae37325",
   "metadata": {},
   "outputs": [],
   "source": [
    "raw_histogram = Counter(raw_data)\n",
    "histogram = Counter(data)\n",
    "results = [evaluate(q, histogram) for q in Q]"
   ]
  },
  {
   "cell_type": "markdown",
   "id": "6c99f751",
   "metadata": {},
   "source": [
    "# Composition"
   ]
  },
  {
   "cell_type": "code",
   "execution_count": 10,
   "id": "752e6d56",
   "metadata": {},
   "outputs": [
    {
     "name": "stdout",
     "output_type": "stream",
     "text": [
      "4180\n"
     ]
    }
   ],
   "source": [
    "eps_0 = eps / (2*len(Q))\n",
    "\n",
    "results_compo = []\n",
    "for q_idx in range(len(Q)):\n",
    "    q = Q[q_idx]\n",
    "    T = np.random.laplace(0, 2 / eps_0) \n",
    "    \n",
    "    c = evaluate_counting_raw(q, raw_histogram, 0)\n",
    "    if (c + np.random.laplace(0, 4 / eps_0) < T):\n",
    "        results_compo.append(0)\n",
    "        continue\n",
    "        \n",
    "    # else    \n",
    "    tau = 1\n",
    "    while (tau < GS):\n",
    "        c = evaluate_counting_raw(q, raw_histogram, tau)\n",
    "        if (c + np.random.laplace(0, 4 / eps_0) < T):\n",
    "            ans = evaluate_raw(q, raw_histogram, tau)\n",
    "            results_compo.append(ans + np.random.laplace(0, tau / eps_0))\n",
    "            break\n",
    "        else:\n",
    "            tau = 2 * tau\n",
    "    if (tau >= GS):\n",
    "        results_compo.append(results[q_idx] + np.random.laplace(0, GS / eps_0))\n",
    "\n",
    "errors_compo = [x-y for x,y in zip(results_compo, results)]\n",
    "print(len(errors_compo))"
   ]
  },
  {
   "cell_type": "markdown",
   "id": "58cd67e9",
   "metadata": {},
   "source": [
    "# Normalization / Global Truncation"
   ]
  },
  {
   "cell_type": "code",
   "execution_count": 11,
   "id": "1345d8c2",
   "metadata": {},
   "outputs": [
    {
     "name": "stdout",
     "output_type": "stream",
     "text": [
      "iteration: 0\n",
      "iteration: 1\n",
      "iteration: 2\n",
      "iteration: 3\n",
      "iteration: 4\n",
      "iteration: 5\n",
      "iteration: 6\n",
      "iteration: 7\n",
      "iteration: 8\n",
      "iteration: 9\n"
     ]
    }
   ],
   "source": [
    "T = 10\n",
    "eps_0 = eps / u_trans / (2*T)\n",
    "universe_size = 100 * 4 * 15 * u_trans\n",
    "synthetic_histogram = {}\n",
    "\n",
    "for age in range(1, 101):\n",
    "    for coeff in range(1,16):\n",
    "        for expnt in range(u_trans):\n",
    "            synthetic_histogram[(age, False, False, coeff, expnt)] = n / universe_size\n",
    "            synthetic_histogram[(age, True, False, coeff, expnt)] = n / universe_size\n",
    "            synthetic_histogram[(age, False, True, coeff, expnt)] = n / universe_size\n",
    "            synthetic_histogram[(age, True, True, coeff, expnt)] = n / universe_size\n",
    "            \n",
    "measurements = {}\n",
    "for i in range(T):\n",
    "    print(\"iteration: \"+str(i))   \n",
    "\n",
    "    errors = np.array([])\n",
    "    for qi in range(len(Q)):\n",
    "        q = Q[qi]\n",
    "        errors = np.append(errors, eps_0 * abs(results[qi] - evaluate(q, synthetic_histogram)) / GS / 2.0)\n",
    "    max_error = errors.max() \n",
    "    for qi in range(len(errors)):\n",
    "        if qi in measurements:\n",
    "            errors[qi] = 0.0\n",
    "        else:\n",
    "            errors[qi] = math.exp(errors[qi]-max_error)\n",
    "    qi = np.random.choice(range(len(errors)), p=errors / np.sum(errors))\n",
    "    \n",
    "    measurements[qi] = evaluate(Q[qi], histogram) + np.random.laplace(0, 1.0 / eps_0)\n",
    "    \n",
    "    total = sum(synthetic_histogram.values())\n",
    "    for iteration in range(100):\n",
    "        for qi in measurements:\n",
    "            q = Q[qi]\n",
    "            error = (measurements[qi] - evaluate(q, synthetic_histogram)) / GS\n",
    "            for age in range(q[0], q[1]+1):\n",
    "                for coeff in range(1,16):\n",
    "                    for expnt in range(u_trans):\n",
    "                        synthetic_histogram[(age, q[2], q[3], coeff, expnt)] *= math.exp(coeff * pow_16[expnt] / GS * error / (2.0 * total))\n",
    "            count = sum(synthetic_histogram.values())\n",
    "            synthetic_histogram = {k: v*total / count for k,v in synthetic_histogram.items()}\n",
    "\n",
    "synthetic_histogram_norm = synthetic_histogram\n",
    "results_norm = [evaluate(q, synthetic_histogram_norm) for q in Q]\n",
    "errors_norm = [x-y for x,y in zip(results_norm, results)]"
   ]
  },
  {
   "cell_type": "markdown",
   "id": "96ba0e05",
   "metadata": {},
   "source": [
    "# Ours"
   ]
  },
  {
   "cell_type": "code",
   "execution_count": 12,
   "id": "60a58c9a",
   "metadata": {},
   "outputs": [
    {
     "name": "stdout",
     "output_type": "stream",
     "text": [
      "iteration: 0\n",
      "iteration: 1\n",
      "iteration: 2\n",
      "iteration: 3\n",
      "iteration: 4\n",
      "iteration: 5\n",
      "iteration: 6\n",
      "iteration: 7\n",
      "iteration: 8\n",
      "iteration: 9\n",
      "0.9999999999991361\n"
     ]
    }
   ],
   "source": [
    "T = 10\n",
    "eps_0 = eps / u_trans / (2*T)\n",
    "for age in range(1, 101):\n",
    "    for coeff in range(1,16):\n",
    "        for expnt in range(u_trans):\n",
    "            synthetic_histogram[(age, False, False, coeff, expnt)] = n / universe_size\n",
    "            synthetic_histogram[(age, True, False, coeff, expnt)] = n / universe_size\n",
    "            synthetic_histogram[(age, False, True, coeff, expnt)] = n / universe_size\n",
    "            synthetic_histogram[(age, True, True, coeff, expnt)] = n / universe_size\n",
    "\n",
    "tau_mult = 4\n",
    "log_tau_mult = int(math.ceil(math.log(GS) / math.log(tau_mult)))\n",
    "\n",
    "def evaluate_qi(qi, histogram, Q):\n",
    "    q = Q[qi // (2*log_tau_mult+2)]\n",
    "    tau = (qi % (2*log_tau_mult+2) + 1) // 2\n",
    "    if qi % 2 == 0:\n",
    "        return evaluate_counting(q, histogram, tau)\n",
    "    else:\n",
    "        return evaluate(q, histogram, tau) / tau\n",
    "\n",
    "measurements = {}\n",
    "for i in range(T):\n",
    "    print(\"iteration: \"+str(i))\n",
    "    errors = np.array([])\n",
    "    for q in Q:\n",
    "        errors = np.append(errors, eps_0 * abs(evaluate_counting(q, histogram, 0) - evaluate_counting(q, synthetic_histogram, 0)) / 2.0) # counting tau = 0\n",
    "        tau = 1\n",
    "        while tau < GS:\n",
    "            errors = np.append(errors, \\\n",
    "                               [eps_0 * abs(evaluate(q, histogram, tau) - evaluate(q, synthetic_histogram, tau)) / tau / 2.0,  # truncated by tau \\\n",
    "                                eps_0 * abs(evaluate_counting(q, histogram, tau) - evaluate_counting(q, synthetic_histogram, tau)) / 2.0]) # counting tau\n",
    "            tau *= 4\n",
    "        errors = np.append(errors, eps_0 * abs(evaluate(q, histogram, GS) - evaluate(q, synthetic_histogram, GS)) / GS / 2.0)\n",
    "    max_error = errors.max() \n",
    "    for qi in range(len(errors)):\n",
    "        if qi in measurements:\n",
    "            errors[qi] = 0.0\n",
    "        else:\n",
    "            errors[qi] = math.exp(errors[qi]-max_error)\n",
    "    qi = np.random.choice(range(len(errors)), p=errors / np.sum(errors))\n",
    "    \n",
    "    measurements[qi] = evaluate_qi(qi, histogram, Q) + np.random.laplace(0, 1.0 / eps_0)\n",
    "\n",
    "    total = sum(synthetic_histogram.values())\n",
    "    for iteration in range(100):\n",
    "        for qi in measurements:\n",
    "            q = Q[qi // (2*log_tau_mult+2)]\n",
    "            tau = (qi % (2*log_tau_mult+2) + 1) // 2\n",
    "            error = measurements[qi] - evaluate_qi(qi, synthetic_histogram, Q)\n",
    "            # if q(x) = 0, weight multiplied by e^0=1, needs not be done\n",
    "            for age in range(q[0], q[1]+1):\n",
    "                for coeff in range(1,16):\n",
    "                    for expnt in range(u_trans):\n",
    "                        if (qi % 2 == 0): # counting\n",
    "                            synthetic_histogram[(age, q[2], q[3], coeff, expnt)] *= math.exp(int(coeff * pow_16[expnt] > tau) * error / (2.0 * total))\n",
    "                        else: # trunc\n",
    "                            synthetic_histogram[(age, q[2], q[3], coeff, expnt)] *= math.exp(min(coeff * pow_16[expnt], tau) / tau * error / (2.0 * total))\n",
    "            count = sum(synthetic_histogram.values())\n",
    "            synthetic_histogram = {k: v*total / count for k,v in synthetic_histogram.items()}\n",
    "            \n",
    "print(sum(synthetic_histogram.values()) / n)\n",
    "synthetic_histogram_trunc = synthetic_histogram"
   ]
  },
  {
   "cell_type": "code",
   "execution_count": 13,
   "id": "bf293129",
   "metadata": {},
   "outputs": [
    {
     "name": "stdout",
     "output_type": "stream",
     "text": [
      "4180\n"
     ]
    }
   ],
   "source": [
    "results_trunc = []\n",
    "\n",
    "errors = np.array([])\n",
    "for q in Q: # each q generates 41 queries\n",
    "    errors = np.append(errors, eps_0 * abs(evaluate_counting(q, histogram, 0) - evaluate_counting(q, synthetic_histogram_trunc, 0)) / 2.0) # counting tau = 0\n",
    "    tau = 1\n",
    "    while tau < GS:\n",
    "        errors = np.append(errors, \\\n",
    "                           [abs(evaluate(q, histogram, tau) - evaluate(q, synthetic_histogram_trunc, tau)) / tau,  # truncated by tau \\\n",
    "                            abs(evaluate_counting(q, histogram, tau) - evaluate_counting(q, synthetic_histogram_trunc, tau))]) # counting tau\n",
    "        tau *= tau_mult\n",
    "max_error = errors.max() + np.random.laplace(0, 10 / eps)\n",
    "\n",
    "for q in Q:\n",
    "    tau = 0\n",
    "    c = evaluate_counting(q, synthetic_histogram_trunc, 0)\n",
    "    if c <= max_error:\n",
    "        # tau == 0\n",
    "        results_trunc.append(0)\n",
    "    else:\n",
    "        R = 1\n",
    "        while R < GS:\n",
    "            ans = evaluate_counting(q, synthetic_histogram_trunc, R)\n",
    "            if ans <= max_error:\n",
    "                break\n",
    "            else:\n",
    "                R = 4 * R\n",
    "        tau = min(GS, R)\n",
    "        res = evaluate(q, synthetic_histogram_trunc, tau)\n",
    "        results_trunc.append(res)\n",
    "\n",
    "errors_trunc = [x-y for x,y in zip(results_trunc, results)]\n",
    "print(len(errors_trunc))"
   ]
  },
  {
   "cell_type": "code",
   "execution_count": 14,
   "id": "c67ebd77",
   "metadata": {},
   "outputs": [
    {
     "name": "stdout",
     "output_type": "stream",
     "text": [
      "[485, 899, 2287, 6662, 13166, 10647, 3488, 290, 7]\n"
     ]
    }
   ],
   "source": [
    "decompo_data = []\n",
    "tau = 1\n",
    "tau_mult = 4\n",
    "while tau < GS:\n",
    "    decompo_data.append([])\n",
    "    tau *= tau_mult\n",
    "    \n",
    "for t in raw_data:\n",
    "    if t[3] > 0:\n",
    "        i = math.floor(math.log(t[3]) / math.log(tau_mult))\n",
    "        decompo_data[i].append(t)\n",
    "\n",
    "print([len(x) for x in decompo_data])"
   ]
  },
  {
   "cell_type": "code",
   "execution_count": 15,
   "id": "63d74f50",
   "metadata": {},
   "outputs": [],
   "source": [
    "# Data structure:\n",
    "# decompo_data = [[0<agg<=1], [1<agg<=2], ... , [GS/2 < agg <= GS]]\n",
    "# Synopsis = [{rng: (count, sum)}, ...] each range is mapped to a count and a sum\n",
    "\n",
    "# 6: [1, 64]\n",
    "# 5: [1, 32], [33, 64]\n",
    "# 4: [1, 16], [17, 32], [33, 64], [65, 80], [81, 96]\n",
    "# 3: [1, 8] ... [89, 96]\n",
    "# 2: [1, 4] ... [97, 100]\n",
    "# 1: [1, 2], [3, 4]... [99, 100]\n",
    "# 0: [1, 1], [2, 2] ... [100, 100]\n",
    "\n",
    "eps_0 = eps / 2 / 7\n",
    "synopsis = []\n",
    "\n",
    "for i in range(len(decompo_data)):\n",
    "    data_ = decompo_data[i]\n",
    "    histogram_ = Counter(data_)\n",
    "    GS_i = pow_2[i]\n",
    "    A = {}\n",
    "    for level in range(7):\n",
    "        step = pow_2[level]\n",
    "        left = 1\n",
    "        right = left + step\n",
    "        while (right <= 101):\n",
    "            A[(left,right-1, True, True)] = (evaluate_counting_raw((left,right-1,True,True), histogram_) + np.random.laplace(0, 1 / eps_0), \\\n",
    "                                 evaluate_raw((left,right-1,True,True), histogram_, GS) + np.random.laplace(0, GS_i / eps_0) )\n",
    "            A[(left,right-1, True, False)] = (evaluate_counting_raw((left,right-1,True, False), histogram_) + np.random.laplace(0, 1 / eps_0), \\\n",
    "                                 evaluate_raw((left,right-1,True, False), histogram_, GS) + np.random.laplace(0, GS_i / eps_0) )\n",
    "            A[(left,right-1, False, True)] = (evaluate_counting_raw((left,right-1,False, True), histogram_) + np.random.laplace(0, 1 / eps_0), \\\n",
    "                                 evaluate_raw((left,right-1,False, True), histogram_, GS) + np.random.laplace(0, GS_i / eps_0) )\n",
    "            A[(left,right-1, False, False)] = (evaluate_counting_raw((left,right-1,False, False), histogram_) + np.random.laplace(0, 1 / eps_0), \\\n",
    "                                 evaluate_raw((left,right-1,False, False), histogram_, GS) + np.random.laplace(0, GS_i / eps_0) )\n",
    "            left = right\n",
    "            right = left + step\n",
    "    synopsis.append(A)"
   ]
  },
  {
   "cell_type": "code",
   "execution_count": 16,
   "id": "1547b5db",
   "metadata": {},
   "outputs": [],
   "source": [
    "synopsis_full = [{} for x in synopsis]\n",
    "for q in Q:\n",
    "    if q in synopsis[0]:\n",
    "        for i in range(len(synopsis)):\n",
    "            synopsis_full[i][q] = synopsis[i][q]\n",
    "    else:\n",
    "        left, right, _, _ = q # say [1, 3]\n",
    "        qx = [0 for x in synopsis]\n",
    "        qy = [0 for x in synopsis]\n",
    "        while left <= right:\n",
    "            step = pow_2[math.floor(math.log(right+1-left) / math.log(2))] # 2 -> 1\n",
    "            while (step >= 1):\n",
    "                middle = left + step - 1 #[1, 2] -> [3, 3]\n",
    "                if (middle <= right and (left, middle, q[2], q[3]) in synopsis[0]):\n",
    "                    for i in range(len(synopsis)):\n",
    "                        qx[i] += synopsis[i][(left,middle, q[2], q[3])][0]\n",
    "                        qy[i] += synopsis[i][(left,middle, q[2], q[3])][1]\n",
    "                    left = middle + 1\n",
    "                    break\n",
    "                else:\n",
    "                    step = step // 2\n",
    "        for i in range(len(synopsis)):\n",
    "            synopsis_full[i][q] = (qx[i], qy[i])"
   ]
  },
  {
   "cell_type": "code",
   "execution_count": 17,
   "id": "ccdea3c5",
   "metadata": {},
   "outputs": [],
   "source": [
    "alpha = 4 / eps_0 * 7 * len(synopsis)\n",
    "results_range = []\n",
    "for q in Q:\n",
    "    # tau = 0\n",
    "    c_ = []\n",
    "    w_ = []\n",
    "    for s in synopsis_full:\n",
    "        pair = s[q]\n",
    "        c_.append(pair[0])\n",
    "        w_.append(pair[1])\n",
    "    c0 = sum(c_)\n",
    "    if (c0 <= alpha):\n",
    "        results_range.append(0)\n",
    "    else:\n",
    "        result = 0\n",
    "        for i in range(len(c_)):\n",
    "            c0 -= c_[i]\n",
    "            result += w_[i]\n",
    "            if (c0 <= alpha):\n",
    "                result += c0 * (2 ** i)\n",
    "                results_range.append(result)\n",
    "errors_range = [x-y for x,y in zip(results_range, results)]"
   ]
  },
  {
   "cell_type": "code",
   "execution_count": 18,
   "id": "c9043feb",
   "metadata": {},
   "outputs": [
    {
     "data": {
      "image/png": "[encoded data removed]",
      "text/plain": [
       "<Figure size 432x288 with 1 Axes>"
      ]
     },
     "metadata": {
      "needs_background": "light"
     },
     "output_type": "display_data"
    }
   ],
   "source": [
    "plt.ylabel('Error')\n",
    "plt.boxplot([[abs(x) for x in errors_compo], [abs(x) for x in errors_norm], [abs(x) for x in errors_trunc], [abs(x) for x in errors_range]], \\\n",
    "            labels=['Composition', 'Normalization/Global', 'Ours', 'Range'], whis=(25,100), showfliers=False)\n",
    "plt.yscale(\"symlog\")\n",
    "plt.show()"
   ]
  },
  {
   "cell_type": "code",
   "execution_count": null,
   "id": "1b8e3379",
   "metadata": {},
   "outputs": [],
   "source": []
  }
 ],
 "metadata": {
  "kernelspec": {
   "display_name": "Python 3",
   "language": "python",
   "name": "python3"
  },
  "language_info": {
   "codemirror_mode": {
    "name": "ipython",
    "version": 3
   },
   "file_extension": ".py",
   "mimetype": "text/x-python",
   "name": "python",
   "nbconvert_exporter": "python",
   "pygments_lexer": "ipython3",
   "version": "3.8.8"
  }
 },
 "nbformat": 4,
 "nbformat_minor": 5
}
