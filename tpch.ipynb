{
 "cells": [
  {
   "cell_type": "code",
   "execution_count": 1,
   "id": "248e2d5f",
   "metadata": {},
   "outputs": [],
   "source": [
    "import random\n",
    "import math\n",
    "import numpy as np\n",
    "from collections import Counter\n",
    "from matplotlib import pyplot as plt\n",
    "from datetime import datetime\n",
    "from dateutil.parser import parse"
   ]
  },
  {
   "cell_type": "code",
   "execution_count": 2,
   "id": "50e7dad6",
   "metadata": {},
   "outputs": [],
   "source": [
    "def pow_16_():\n",
    "    a = []\n",
    "    for i in range(16):\n",
    "        a.append(16 ** i)\n",
    "    return a\n",
    "\n",
    "pow_16 = pow_16_()"
   ]
  },
  {
   "cell_type": "code",
   "execution_count": 3,
   "id": "5ca5c2de",
   "metadata": {},
   "outputs": [],
   "source": [
    "raw_data = []\n",
    "\n",
    "with open('../data/lineitem.tbl') as f:\n",
    "    for line in f:\n",
    "        tokens = line.strip().split('|')[:-1]\n",
    "        orderkey, partkey, suppkey, linenumber, quantity, price, discount, tax, returnflag, linestatus, \\\n",
    "            shipdate, commitdate, receiptdate,shipinstruct, shipmode, comment = tokens\n",
    "        shipdate = parse(shipdate).date()\n",
    "        s = (shipdate.year-1992)*12 + shipdate.month\n",
    "        w = int(round(float(price) * float(discount)))\n",
    "        raw_data.append((s, int(float(discount) * 100), int(quantity), w))"
   ]
  },
  {
   "cell_type": "code",
   "execution_count": 4,
   "id": "9a057e09",
   "metadata": {},
   "outputs": [],
   "source": [
    "data = []\n",
    "\n",
    "for t in raw_data:\n",
    "    s, d, quant, w = t\n",
    "    expnt = 0\n",
    "    for i in hex(w)[2:][::-1]:\n",
    "        if i > '0':\n",
    "            data.append((s, d, quant, int('0x'+i,16), expnt))\n",
    "        expnt += 1\n",
    "\n",
    "n = len(data)"
   ]
  },
  {
   "cell_type": "code",
   "execution_count": 5,
   "id": "b3ba9c2e",
   "metadata": {},
   "outputs": [],
   "source": [
    "GS = 10500\n",
    "eps = 1\n",
    "u_trans = math.ceil(math.log(10500) / math.log(16))"
   ]
  },
  {
   "cell_type": "code",
   "execution_count": 6,
   "id": "d40e68b3",
   "metadata": {},
   "outputs": [
    {
     "name": "stdout",
     "output_type": "stream",
     "text": [
      "75360\n"
     ]
    }
   ],
   "source": [
    "Q = []\n",
    "\n",
    "for sl in range(1, 85):\n",
    "    for sr in range(sl, min(sl+12, 85)):\n",
    "        for dm in range(2, 10):\n",
    "            for quantity in range(1, 11):\n",
    "                Q.append((sl, sr, dm, quantity))\n",
    "\n",
    "print(len(Q))"
   ]
  },
  {
   "cell_type": "code",
   "execution_count": 7,
   "id": "020457dd",
   "metadata": {},
   "outputs": [],
   "source": [
    "def evaluate(q, histogram, tau=GS):\n",
    "    ans = 0\n",
    "    sl, sr, dm, qu = q\n",
    "    for s in range(sl, sr+1):\n",
    "        for d in range(dm-1, dm+2):\n",
    "            for coeff in range(1,16):\n",
    "                for expnt in range(u_trans):\n",
    "                    x = (s, d, qu, coeff, expnt)\n",
    "                    if x in histogram:\n",
    "                        ans += min(coeff * pow_16[expnt],tau) * histogram[x]\n",
    "    return ans\n",
    "\n",
    "def evaluate_counting(q, histogram, tau):\n",
    "    ans = 0\n",
    "    sl, sr, dm, qu = q\n",
    "    for s in range(sl, sr+1):\n",
    "        for d in range(dm-1, dm+2):\n",
    "            for coeff in range(1,16):\n",
    "                for expnt in range(u_trans):\n",
    "                    x = (s, d, qu, coeff, expnt)\n",
    "                    if x in histogram and (coeff * pow_16[expnt] > tau):\n",
    "                        ans += histogram[x]\n",
    "    return ans"
   ]
  },
  {
   "cell_type": "code",
   "execution_count": 8,
   "id": "957699f6",
   "metadata": {},
   "outputs": [],
   "source": [
    "histogram = Counter(data)\n",
    "results = [evaluate(q, histogram) for q in Q]"
   ]
  },
  {
   "cell_type": "markdown",
   "id": "766c4db7",
   "metadata": {},
   "source": [
    "# Composition"
   ]
  },
  {
   "cell_type": "code",
   "execution_count": 9,
   "id": "e7a843cd",
   "metadata": {},
   "outputs": [],
   "source": [
    "eps_0 = eps / u_trans / (2*len(Q)) \n",
    "\n",
    "results_compo = []\n",
    "for q_idx in range(len(Q)):\n",
    "    q = Q[q_idx]\n",
    "    T = np.random.laplace(0, 2 / eps_0) # threshold to compare with\n",
    "    \n",
    "    c = evaluate_counting(q, histogram, 0)\n",
    "    if (c + np.random.laplace(0, 4 / eps_0) > T):\n",
    "        results_compo.append(0)\n",
    "        continue\n",
    "        \n",
    "    # else    \n",
    "    tau = 1\n",
    "    while (tau < GS):\n",
    "        c = evaluate_counting(q, histogram, tau)\n",
    "        if (c + np.random.laplace(0, 4 / eps_0) > T):\n",
    "            ans = evaluate(q, histogram, tau)\n",
    "            results_compo.append(ans + np.random.laplace(0, tau / eps_0))\n",
    "            break\n",
    "        else:\n",
    "            tau = 2 * tau\n",
    "    if (tau >= GS):\n",
    "        results_compo.append(results[q_idx] + np.random.laplace(0, GS / eps_0))\n",
    "\n",
    "errors_compo = [x-y for x,y in zip(results_compo, results)]"
   ]
  },
  {
   "cell_type": "markdown",
   "id": "d8ffe8e7",
   "metadata": {},
   "source": [
    "# Normalization"
   ]
  },
  {
   "cell_type": "code",
   "execution_count": 10,
   "id": "be41a5ea",
   "metadata": {},
   "outputs": [
    {
     "name": "stdout",
     "output_type": "stream",
     "text": [
      "2772000\n",
      "iteration: 0\n",
      "iteration: 1\n",
      "iteration: 2\n",
      "iteration: 3\n",
      "iteration: 4\n",
      "iteration: 5\n",
      "iteration: 6\n",
      "iteration: 7\n",
      "iteration: 8\n",
      "iteration: 9\n"
     ]
    }
   ],
   "source": [
    "T = 10\n",
    "eps_0 = eps / u_trans / (2*T)\n",
    "universe_size = 84 * 11 * 50 * 15 * u_trans\n",
    "print(universe_size)\n",
    "synthetic_histogram = {}\n",
    "\n",
    "for s in range(1,85):\n",
    "    for d in range(11):\n",
    "        for quantity in range(1,51):\n",
    "            for coeff in range(1,16):\n",
    "                for expnt in range(u_trans):\n",
    "                    synthetic_histogram[(s,d,quantity,coeff,expnt)] = n / universe_size\n",
    "            \n",
    "measurements = {}\n",
    "for i in range(T):\n",
    "    print(\"iteration: \"+str(i))   \n",
    "    # we want to find query with largest error\n",
    "    # q_norm = q / GS\n",
    "    # therefore evaluating q_norm(D) is exactly q(D) / GS\n",
    "    errors = np.array([])\n",
    "    for qi in range(len(Q)):\n",
    "        q = Q[qi]\n",
    "        errors = np.append(errors, eps_0 * abs(results[qi] - evaluate(q, synthetic_histogram)) / GS / 2.0)\n",
    "    max_error = errors.max() \n",
    "    for qi in range(len(errors)):\n",
    "        if qi in measurements:\n",
    "            errors[qi] = 0.0\n",
    "        else:\n",
    "            errors[qi] = math.exp(errors[qi]-max_error)\n",
    "    qi = np.random.choice(range(len(errors)), p=errors / np.sum(errors))\n",
    "    \n",
    "    measurements[qi] = evaluate(Q[qi], histogram) + np.random.laplace(0, 1.0 / eps_0)\n",
    "    \n",
    "    total = sum(synthetic_histogram.values())\n",
    "    for iteration in range(100):\n",
    "        for qi in measurements:\n",
    "            q = Q[qi]\n",
    "            error = (measurements[qi] - evaluate(q, synthetic_histogram)) / GS\n",
    "            sl, sr, dm, qu = q\n",
    "            for s in range(sl, sr+1):\n",
    "                for d in range(dm-1, dm+2):\n",
    "                    for coeff in range(1,16):\n",
    "                        for expnt in range(u_trans):\n",
    "                            synthetic_histogram[(s, d, qu, coeff, expnt)] *= math.exp(coeff * pow_16[expnt] / GS * error / (2.0 * total))\n",
    "            count = sum(synthetic_histogram.values())\n",
    "            synthetic_histogram = {k: v*total / count for k,v in synthetic_histogram.items()}\n",
    "\n",
    "synthetic_histogram_norm = synthetic_histogram\n",
    "results_norm = [evaluate(q, synthetic_histogram_norm) for q in Q]\n",
    "errors_norm = [x-y for x,y in zip(results_norm, results)]"
   ]
  },
  {
   "cell_type": "markdown",
   "id": "eed32264",
   "metadata": {},
   "source": [
    "# Global Truncation"
   ]
  },
  {
   "cell_type": "code",
   "execution_count": 12,
   "id": "83146f62",
   "metadata": {},
   "outputs": [
    {
     "name": "stdout",
     "output_type": "stream",
     "text": [
      "2772000\n",
      "iteration: 0\n",
      "iteration: 1\n",
      "iteration: 2\n",
      "iteration: 3\n",
      "iteration: 4\n",
      "iteration: 5\n",
      "iteration: 6\n",
      "iteration: 7\n",
      "iteration: 8\n",
      "iteration: 9\n"
     ]
    }
   ],
   "source": [
    "weights = [x[3] for x in raw_data]\n",
    "\n",
    "eps_0 = eps / 2\n",
    "delta_D = GS\n",
    "T = n + np.random.laplace(0, 2 / eps_0)\n",
    "c = sum(x <= 0 for x in weights)\n",
    "if (c + np.random.laplace(0, 4 / eps_0) > T):\n",
    "    delta_D = 0\n",
    "else:\n",
    "    tau = 1\n",
    "    while (tau < GS):\n",
    "        c = sum(x <= tau for x in weights)\n",
    "        if (c + np.random.laplace(0, 4 / eps_0) > T):\n",
    "            delta_D = tau\n",
    "            break\n",
    "        else:\n",
    "            tau = 2 * tau\n",
    "\n",
    "T = 10\n",
    "eps_0 = eps / 2 / u_trans / (2*T)\n",
    "universe_size = 84 * 11 * 50 * 15 * u_trans\n",
    "print(universe_size)\n",
    "synthetic_histogram = {}\n",
    "\n",
    "for s in range(1,85):\n",
    "    for d in range(11):\n",
    "        for quantity in range(1,51):\n",
    "            for coeff in range(1,16):\n",
    "                for expnt in range(u_trans):\n",
    "                    synthetic_histogram[(s,d,quantity,coeff,expnt)] = n / universe_size\n",
    "\n",
    "measurements = {}\n",
    "for i in range(T):\n",
    "    print(\"iteration: \"+str(i))   \n",
    "    # we want to find query with largest error\n",
    "    # q_norm = q / GS\n",
    "    # therefore evaluating q_norm(D) is exactly q(D) / GS\n",
    "    errors = np.array([])\n",
    "    for qi in range(len(Q)):\n",
    "        q = Q[qi]\n",
    "        errors = np.append(errors, eps_0 * abs(results[qi] - evaluate(q, synthetic_histogram, delta_D)) / delta_D / 2.0)\n",
    "    max_error = errors.max() \n",
    "    for qi in range(len(errors)):\n",
    "        if qi in measurements:\n",
    "            errors[qi] = 0.0\n",
    "        else:\n",
    "            errors[qi] = math.exp(errors[qi]-max_error)\n",
    "    qi = np.random.choice(range(len(errors)), p=errors / np.sum(errors))\n",
    "    \n",
    "    measurements[qi] = evaluate(Q[qi], histogram) + np.random.laplace(0, 1.0 / eps_0)\n",
    "    \n",
    "    total = sum(synthetic_histogram.values())\n",
    "    for iteration in range(100):\n",
    "        for qi in measurements:\n",
    "            q = Q[qi]\n",
    "            error = (measurements[qi] - evaluate(q, synthetic_histogram)) / GS\n",
    "            sl, sr, dm, qu = q\n",
    "            for s in range(sl, sr+1):\n",
    "                for d in range(dm-1, dm+2):\n",
    "                    for coeff in range(1,16):\n",
    "                        for expnt in range(u_trans):\n",
    "                            synthetic_histogram[(s, d, qu, coeff, expnt)] *= math.exp(min(coeff * pow_16[expnt] / delta_D, 1) * error / (2.0 * total))\n",
    "            count = sum(synthetic_histogram.values())\n",
    "            synthetic_histogram = {k: v*total / count for k,v in synthetic_histogram.items()}\n",
    "\n",
    "synthetic_histogram_glb = synthetic_histogram\n",
    "results_glb = [evaluate(q, synthetic_histogram_glb) for q in Q]\n",
    "errors_glb = [x-y for x,y in zip(results_glb, results)]"
   ]
  },
  {
   "cell_type": "markdown",
   "id": "c4228b6e",
   "metadata": {},
   "source": [
    "# Ours"
   ]
  },
  {
   "cell_type": "code",
   "execution_count": 16,
   "id": "05887f0f",
   "metadata": {
    "scrolled": true
   },
   "outputs": [
    {
     "name": "stdout",
     "output_type": "stream",
     "text": [
      "2772000\n",
      "iteration: 0\n",
      "iteration: 1\n",
      "iteration: 2\n",
      "iteration: 3\n",
      "iteration: 4\n",
      "iteration: 5\n",
      "iteration: 6\n",
      "iteration: 7\n",
      "iteration: 8\n",
      "iteration: 9\n"
     ]
    }
   ],
   "source": [
    "T = 10\n",
    "eps_0 = eps * 0.9 /  u_trans / (2*T)\n",
    "universe_size = 84 * 11 * 50 * 15 * u_trans\n",
    "print(universe_size)\n",
    "synthetic_histogram = {}\n",
    "\n",
    "for s in range(1,85):\n",
    "    for d in range(11):\n",
    "        for quantity in range(1,51):\n",
    "            for coeff in range(1,16):\n",
    "                for expnt in range(u_trans):\n",
    "                    synthetic_histogram[(s,d,quantity,coeff,expnt)] = n / universe_size\n",
    "\n",
    "tau_mult = 4\n",
    "log_tau_mult = int(math.ceil(math.log(GS) / math.log(tau_mult)))\n",
    "\n",
    "def evaluate_qi(qi, histogram, Q):\n",
    "    q = Q[qi // (2*log_tau_mult+2)]\n",
    "    tau = (qi % (2*log_tau_mult+2) + 1) // 2\n",
    "    if qi % 2 == 0:\n",
    "        return evaluate_counting(q, histogram, tau)\n",
    "    else:\n",
    "        return evaluate(q, histogram, tau) / tau\n",
    "\n",
    "dic = {}\n",
    "for q in Q:\n",
    "    dic[(0,q,0)]=evaluate_counting(q, histogram, 0)\n",
    "    tau = 1\n",
    "    while tau < GS:\n",
    "        dic[(1,q,tau)] = evaluate(q, histogram, tau) \n",
    "        dic[(0,q,tau)] = evaluate_counting(q, histogram, tau)\n",
    "        tau *= 4\n",
    "    dic[(1,q,GS)] = evaluate(q,histogram,GS)\n",
    "\n",
    "measurements = {}\n",
    "for i in range(T):\n",
    "    print(\"iteration: \"+str(i))\n",
    "    errors = np.array([])\n",
    "    for q in Q: # each q generates 41 queries\n",
    "        errors = np.append(errors, eps_0 * abs(dic[(0,q,0)]- evaluate_counting(q, synthetic_histogram, 0)) / 2.0) # counting tau = 0\n",
    "        tau = 1\n",
    "        while tau < GS:\n",
    "            errors = np.append(errors, \\\n",
    "                               [eps_0 * abs(dic[(1,q,tau)] - evaluate(q, synthetic_histogram, tau)) / tau / 2.0,  # truncated by tau \\\n",
    "                                eps_0 * abs(dic[(0,q,tau)] - evaluate_counting(q, synthetic_histogram, tau)) / 2.0]) # counting tau\n",
    "            tau *= 4\n",
    "        errors = np.append(errors, eps_0 * abs(dic[(1,q,GS)] - evaluate(q, synthetic_histogram, GS)) / GS / 2.0)\n",
    "    max_error = errors.max() \n",
    "    for qi in range(len(errors)):\n",
    "        if qi in measurements:\n",
    "            errors[qi] = 0.0\n",
    "        else:\n",
    "            errors[qi] = math.exp(errors[qi]-max_error)\n",
    "    qi = np.random.choice(range(len(errors)), p=errors / np.sum(errors))\n",
    "    \n",
    "    measurements[qi] = evaluate_qi(qi, histogram, Q) + np.random.laplace(0, 1.0 / eps_0)\n",
    "\n",
    "    total = sum(synthetic_histogram.values())\n",
    "    for iteration in range(100):\n",
    "        for qi in measurements:\n",
    "            q = Q[qi // (2*log_tau_mult+2)]\n",
    "            tau = (qi % (2*log_tau_mult+2) + 1) // 2\n",
    "            error = measurements[qi] - evaluate_qi(qi, synthetic_histogram, Q)\n",
    "            # if q(x) = 0, weight multiplied by e^0=1, needs not be done\n",
    "            sl, sr, dm, qu = q\n",
    "            for s in range(sl, sr+1):\n",
    "                for d in range(dm-1, dm+2):\n",
    "                    for coeff in range(1,16):\n",
    "                        for expnt in range(u_trans):\n",
    "                            if (qi % 2 == 0): # counting\n",
    "                                synthetic_histogram[(s, d, qu, coeff, expnt)] *= math.exp(int(coeff * pow_16[expnt] > tau) * error / (2.0 * total))\n",
    "                            else: # trunc\n",
    "                                synthetic_histogram[(s, d, qu, coeff, expnt)] *= math.exp(min(coeff * pow_16[expnt], tau) / tau * error / (2.0 * total))\n",
    "            count = sum(synthetic_histogram.values())\n",
    "            synthetic_histogram = {k: v*total / count for k,v in synthetic_histogram.items()}\n",
    "            \n",
    "synthetic_histogram_trunc = synthetic_histogram"
   ]
  },
  {
   "cell_type": "code",
   "execution_count": 17,
   "id": "0751e166",
   "metadata": {},
   "outputs": [
    {
     "name": "stdout",
     "output_type": "stream",
     "text": [
      "5970.881602759622\n"
     ]
    }
   ],
   "source": [
    "results_trunc = []\n",
    "\n",
    "errors = np.array([])\n",
    "for q in Q:\n",
    "    errors = np.append(errors, abs(dic[(0, q, 0)] - evaluate_counting(q, synthetic_histogram_trunc, 0))) # counting tau = 0\n",
    "    tau = 1\n",
    "    while tau < GS:\n",
    "        errors = np.append(errors, abs(dic[(0,q,tau)] - evaluate_counting(q, synthetic_histogram_trunc, tau))) # counting tau\n",
    "        tau *= tau_mult\n",
    "max_error = errors.max() + np.random.laplace(0, 10 / eps)\n",
    "print(max_error)\n",
    "\n",
    "for q in Q:\n",
    "    tau = 0\n",
    "    c = evaluate_counting(q, synthetic_histogram_trunc, 0)\n",
    "    if c <= max_error:\n",
    "        # tau == 0\n",
    "        results_trunc.append(0)\n",
    "    else:\n",
    "        R = 1\n",
    "        while R < GS:\n",
    "            ans = evaluate_counting(q, synthetic_histogram_trunc, R)\n",
    "            if ans <= max_error:\n",
    "                break\n",
    "            else:\n",
    "                R = 4 * R\n",
    "        tau = min(GS, R)\n",
    "        res = evaluate(q, synthetic_histogram_trunc, tau)\n",
    "        results_trunc.append(res)\n",
    "\n",
    "errors_trunc = [x-y for x,y in zip(results_trunc, results)]"
   ]
  },
  {
   "cell_type": "code",
   "execution_count": 18,
   "id": "4dd3e2b4",
   "metadata": {},
   "outputs": [
    {
     "data": {
      "image/png": "[encoded data removed]",
      "text/plain": [
       "<Figure size 432x288 with 1 Axes>"
      ]
     },
     "metadata": {
      "needs_background": "light"
     },
     "output_type": "display_data"
    }
   ],
   "source": [
    "plt.ylabel('Error')\n",
    "plt.boxplot([[abs(x) for x in errors_compo], [abs(x) for x in errors_norm], [abs(x) for x in errors_glb], [abs(x) for x in errors_trunc]], \\\n",
    "            labels=['Composition', 'Normalization', 'GlobalTruncation', 'Ours'], whis=(25,100), showfliers=False)\n",
    "plt.yscale(\"symlog\")\n",
    "plt.show()"
   ]
  },
  {
   "cell_type": "code",
   "execution_count": null,
   "id": "64013e11",
   "metadata": {},
   "outputs": [],
   "source": []
  }
 ],
 "metadata": {
  "kernelspec": {
   "display_name": "Python 3",
   "language": "python",
   "name": "python3"
  },
  "language_info": {
   "codemirror_mode": {
    "name": "ipython",
    "version": 3
   },
   "file_extension": ".py",
   "mimetype": "text/x-python",
   "name": "python",
   "nbconvert_exporter": "python",
   "pygments_lexer": "ipython3",
   "version": "3.8.8"
  }
 },
 "nbformat": 4,
 "nbformat_minor": 5
}
