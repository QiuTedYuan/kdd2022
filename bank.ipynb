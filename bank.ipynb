{
 "cells": [
  {
   "cell_type": "code",
   "execution_count": 1,
   "id": "db916c56",
   "metadata": {},
   "outputs": [],
   "source": [
    "import random\n",
    "import math\n",
    "import numpy as np\n",
    "from collections import Counter\n",
    "from matplotlib import pyplot as plt"
   ]
  },
  {
   "cell_type": "code",
   "execution_count": 2,
   "id": "0a80bfdf",
   "metadata": {},
   "outputs": [],
   "source": [
    "def pow_16_():\n",
    "    a = []\n",
    "    for i in range(16):\n",
    "        a.append(16 ** i)\n",
    "    return a\n",
    "\n",
    "pow_16 = pow_16_()"
   ]
  },
  {
   "cell_type": "code",
   "execution_count": 3,
   "id": "ab8626b9",
   "metadata": {},
   "outputs": [],
   "source": [
    "raw_data = []\n",
    "neg_raw_data = []\n",
    "\n",
    "with open('../data/bank/bank-full.csv') as f:\n",
    "    f.readline()\n",
    "    for line in f:\n",
    "        tokens = line.strip().split(';')\n",
    "        age, job, marital, education, default, balance, housing, loan, contact, day, month, \\\n",
    "            duration, campaign, pdays, previous, poutcome, _ = tokens\n",
    "        if (int(balance) >= 0):\n",
    "            raw_data.append((int(age), housing=='\"yes\"', loan=='\"yes\"', int(balance)))\n",
    "        else:\n",
    "            neg_raw_data.append((int(age), housing=='\"yes\"', loan=='\"yes\"', int(balance)))\n",
    "n_raw = len(raw_data)"
   ]
  },
  {
   "cell_type": "code",
   "execution_count": 4,
   "id": "de404a79",
   "metadata": {},
   "outputs": [],
   "source": [
    "# transform the dataset on a base of 16\n",
    "# data = (age, housing, loan, coeff, expnt)\n",
    "\n",
    "data = []\n",
    "neg_data = []\n",
    "\n",
    "for t in raw_data:\n",
    "    age = t[0]\n",
    "    housing = t[1]\n",
    "    loan = t[2]\n",
    "    balance = t[3]\n",
    "    expnt = 0\n",
    "    for i in hex(balance)[2:][::-1]:\n",
    "        if i > '0':\n",
    "            data.append((age, housing, loan, int('0x'+i,16), expnt))\n",
    "        expnt += 1\n",
    "\n",
    "for t in neg_raw_data:\n",
    "    age = t[0]\n",
    "    housing = t[1]\n",
    "    loan = t[2]\n",
    "    balance = -t[3]\n",
    "    expnt = 0\n",
    "    for i in hex(balance)[2:][::-1]:\n",
    "        if i > '0':\n",
    "            neg_data.append((age, housing, loan, int('0x'+i,16), expnt))\n",
    "        expnt += 1\n",
    "        \n",
    "n = len(data)"
   ]
  },
  {
   "cell_type": "markdown",
   "id": "b7b75c76",
   "metadata": {},
   "source": [
    "# Positive"
   ]
  },
  {
   "cell_type": "code",
   "execution_count": 5,
   "id": "16026d02",
   "metadata": {},
   "outputs": [],
   "source": [
    "GS = 2 ** 17\n",
    "eps = 1.0\n",
    "u_trans = math.ceil(math.log(GS) / math.log(16))"
   ]
  },
  {
   "cell_type": "code",
   "execution_count": 6,
   "id": "4d2cf342",
   "metadata": {},
   "outputs": [
    {
     "name": "stdout",
     "output_type": "stream",
     "text": [
      "4180\n"
     ]
    }
   ],
   "source": [
    "Q = []\n",
    "\n",
    "for age_length in range(11): # 0 - 10\n",
    "    for age_left in range(1, 101-age_length): # [1, 1+length], ... , [100-length,100]\n",
    "        age_right = age_left+age_length\n",
    "        Q.append((age_left, age_right, False, False))\n",
    "        Q.append((age_left, age_right, False, True))\n",
    "        Q.append((age_left, age_right, True, False))\n",
    "        Q.append((age_left, age_right, True, True))\n",
    "\n",
    "print(len(Q))"
   ]
  },
  {
   "cell_type": "code",
   "execution_count": 7,
   "id": "4d52ddcd",
   "metadata": {},
   "outputs": [],
   "source": [
    "\n",
    "def evaluate(q, histogram, tau=GS):\n",
    "    ans = 0\n",
    "    for age in range(q[0], q[1]+1):\n",
    "        for coeff in range(1,16):\n",
    "            for expnt in range(u_trans):\n",
    "                x = (age, q[2], q[3], coeff, expnt)\n",
    "                if x in histogram:\n",
    "                    ans += min(coeff * pow_16[expnt],tau) * histogram[x]\n",
    "    return ans\n",
    "\n",
    "def evaluate_counting(q, histogram, tau):\n",
    "    ans = 0\n",
    "    for age in range(q[0], q[1]+1):\n",
    "        for coeff in range(1,16):\n",
    "            for expnt in range(u_trans):\n",
    "                x = (age, q[2], q[3], coeff, expnt)\n",
    "                if (x in histogram) and (coeff * pow_16[expnt] > tau):\n",
    "                    ans += histogram[x]\n",
    "    return ans\n",
    "\n",
    "def evaluate_raw(q, raw_histogram, tau=GS):\n",
    "    ans = 0\n",
    "    for x in raw_histogram:\n",
    "        age, housing, loan, cap = x\n",
    "        if (age >= q[0] and age <= q[1]):\n",
    "            if (housing == q[2] and loan== q[3]):\n",
    "                ans += min(cap, tau) * raw_histogram[x]\n",
    "    return ans\n",
    "\n",
    "# evaluate a counting query c_{q,tau} on the raw histogram\n",
    "def evaluate_counting_raw(q, raw_histogram, tau):\n",
    "    ans = 0\n",
    "    for x in raw_histogram:\n",
    "        age, housing, loan, cap = x\n",
    "        if (age >= q[0] and age <= q[1]):\n",
    "            if (housing == q[2] and loan== q[3]):\n",
    "                if (cap > tau):\n",
    "                    ans += raw_histogram[x]\n",
    "    return ans"
   ]
  },
  {
   "cell_type": "code",
   "execution_count": 8,
   "id": "0bbf664e",
   "metadata": {},
   "outputs": [],
   "source": [
    "# Calculate true results\n",
    "raw_histogram = Counter(raw_data)\n",
    "histogram = Counter(data)\n",
    "results = [evaluate(q, histogram) for q in Q]"
   ]
  },
  {
   "cell_type": "markdown",
   "id": "e3c197b8",
   "metadata": {},
   "source": [
    "## Composition"
   ]
  },
  {
   "cell_type": "code",
   "execution_count": 9,
   "id": "0d735b09",
   "metadata": {},
   "outputs": [],
   "source": [
    "eps_0 = eps / (2*len(Q))\n",
    "\n",
    "results_compo = []\n",
    "for q_idx in range(len(Q)):\n",
    "    q = Q[q_idx]\n",
    "    T = np.random.laplace(0, 2 / eps_0) # threshold to compare with\n",
    "    \n",
    "    c = evaluate_counting_raw(q, raw_histogram, 0)\n",
    "    if (c + np.random.laplace(0, 4 / eps_0) < T):\n",
    "        results_compo.append(0)\n",
    "        continue\n",
    "        \n",
    "    # else    \n",
    "    tau = 1\n",
    "    while (tau < GS):\n",
    "        c = evaluate_counting_raw(q, raw_histogram, tau)\n",
    "        if (c + np.random.laplace(0, 4 / eps_0) < T):\n",
    "            ans = evaluate_raw(q, raw_histogram, tau)\n",
    "            results_compo.append(ans + np.random.laplace(0, tau / eps_0))\n",
    "            break\n",
    "        else:\n",
    "            tau = 2 * tau\n",
    "    if (tau >= GS):\n",
    "        results_compo.append(results[q_idx] + np.random.laplace(0, GS / eps_0))\n",
    "\n",
    "errors_compo = [x-y for x,y in zip(results_compo, results)]"
   ]
  },
  {
   "cell_type": "markdown",
   "id": "43a92996",
   "metadata": {},
   "source": [
    "## Normalization / Global Truncation"
   ]
  },
  {
   "cell_type": "code",
   "execution_count": 10,
   "id": "1378831f",
   "metadata": {},
   "outputs": [
    {
     "name": "stdout",
     "output_type": "stream",
     "text": [
      "iteration: 0\n",
      "iteration: 1\n",
      "iteration: 2\n",
      "iteration: 3\n",
      "iteration: 4\n",
      "iteration: 5\n",
      "iteration: 6\n",
      "iteration: 7\n",
      "iteration: 8\n",
      "iteration: 9\n"
     ]
    }
   ],
   "source": [
    "T = 10\n",
    "eps_0 = eps / u_trans / (2*T)\n",
    "universe_size = 100 * 4 * 15 * u_trans\n",
    "synthetic_histogram = {}\n",
    "\n",
    "for age in range(1, 101):\n",
    "    for coeff in range(1,16):\n",
    "        for expnt in range(u_trans):\n",
    "            synthetic_histogram[(age, False, False, coeff, expnt)] = n / universe_size\n",
    "            synthetic_histogram[(age, True, False, coeff, expnt)] = n / universe_size\n",
    "            synthetic_histogram[(age, False, True, coeff, expnt)] = n / universe_size\n",
    "            synthetic_histogram[(age, True, True, coeff, expnt)] = n / universe_size\n",
    "            \n",
    "measurements = {}\n",
    "for i in range(T):\n",
    "    print(\"iteration: \"+str(i))   \n",
    "    errors = np.array([])\n",
    "    for qi in range(len(Q)):\n",
    "        q = Q[qi]\n",
    "        errors = np.append(errors, eps_0 * abs(results[qi] - evaluate(q, synthetic_histogram)) / GS / 2.0)\n",
    "    max_error = errors.max() \n",
    "    for qi in range(len(errors)):\n",
    "        if qi in measurements:\n",
    "            errors[qi] = 0.0\n",
    "        else:\n",
    "            errors[qi] = math.exp(errors[qi]-max_error)\n",
    "    qi = np.random.choice(range(len(errors)), p=errors / np.sum(errors))\n",
    "    \n",
    "    measurements[qi] = evaluate(Q[qi], histogram) + np.random.laplace(0, 1.0 / eps_0)\n",
    "    \n",
    "    total = sum(synthetic_histogram.values())\n",
    "    for iteration in range(100):\n",
    "        for qi in measurements:\n",
    "            q = Q[qi]\n",
    "            error = (measurements[qi] - evaluate(q, synthetic_histogram)) / GS\n",
    "            for age in range(q[0], q[1]+1):\n",
    "                for coeff in range(1,16):\n",
    "                    for expnt in range(u_trans):\n",
    "                        synthetic_histogram[(age, q[2], q[3], coeff, expnt)] *= math.exp(coeff * pow_16[expnt] / GS * error / (2.0 * total))\n",
    "            count = sum(synthetic_histogram.values())\n",
    "            synthetic_histogram = {k: v*total / count for k,v in synthetic_histogram.items()}\n",
    "\n",
    "synthetic_histogram_norm = synthetic_histogram\n",
    "results_norm = [evaluate(q, synthetic_histogram_norm) for q in Q]\n",
    "errors_norm = [x-y for x,y in zip(results_norm, results)]"
   ]
  },
  {
   "cell_type": "markdown",
   "id": "462d2e28",
   "metadata": {},
   "source": [
    "## Ours"
   ]
  },
  {
   "cell_type": "code",
   "execution_count": 11,
   "id": "449f8dd7",
   "metadata": {},
   "outputs": [
    {
     "name": "stdout",
     "output_type": "stream",
     "text": [
      "iteration: 0\n",
      "iteration: 1\n",
      "iteration: 2\n",
      "iteration: 3\n",
      "iteration: 4\n",
      "iteration: 5\n",
      "iteration: 6\n",
      "iteration: 7\n",
      "iteration: 8\n",
      "iteration: 9\n"
     ]
    }
   ],
   "source": [
    "T = 10\n",
    "eps_0 = eps * 0.9 / u_trans / (2*T)\n",
    "tau_mult = 4\n",
    "log_tau_mult = int(math.ceil(math.log(GS) / math.log(tau_mult)))\n",
    "\n",
    "for age in range(1, 101):\n",
    "    for coeff in range(1,16):\n",
    "        for expnt in range(u_trans):\n",
    "            synthetic_histogram[(age, False, False, coeff, expnt)] = n / universe_size\n",
    "            synthetic_histogram[(age, True, False, coeff, expnt)] = n / universe_size\n",
    "            synthetic_histogram[(age, False, True, coeff, expnt)] = n / universe_size\n",
    "            synthetic_histogram[(age, True, True, coeff, expnt)] = n / universe_size\n",
    "\n",
    "def evaluate_qi(qi, histogram, Q):\n",
    "    q = Q[qi // (2*log_tau_mult+2)]\n",
    "    tau = (qi % (2*log_tau_mult+2) + 1) // 2\n",
    "    if qi % 2 == 0:\n",
    "        return evaluate_counting(q, histogram, tau)\n",
    "    else:\n",
    "        return evaluate(q, histogram, tau) / tau\n",
    "\n",
    "measurements = {}\n",
    "for i in range(T):\n",
    "    print(\"iteration: \"+str(i))\n",
    "    errors = np.array([])\n",
    "    for q in Q:\n",
    "        errors = np.append(errors, eps_0 * abs(evaluate_counting(q, histogram, 0) - evaluate_counting(q, synthetic_histogram, 0)) / 2.0) # counting tau = 0\n",
    "        tau = 1\n",
    "        while tau < GS:\n",
    "            errors = np.append(errors, \\\n",
    "                               [eps_0 * abs(evaluate(q, histogram, tau) - evaluate(q, synthetic_histogram, tau)) / tau / 2.0,  # truncated by tau \\\n",
    "                                eps_0 * abs(evaluate_counting(q, histogram, tau) - evaluate_counting(q, synthetic_histogram, tau)) / 2.0]) # counting tau\n",
    "            tau *= tau_mult\n",
    "        errors = np.append(errors, eps_0 * abs(evaluate(q, histogram, GS) - evaluate(q, synthetic_histogram, GS)) / GS / 2.0)\n",
    "    max_error = errors.max() \n",
    "    for qi in range(len(errors)):\n",
    "        if qi in measurements:\n",
    "            errors[qi] = 0.0\n",
    "        else:\n",
    "            errors[qi] = math.exp(errors[qi]-max_error)\n",
    "    qi = np.random.choice(range(len(errors)), p=errors / np.sum(errors))\n",
    "    \n",
    "    measurements[qi] = evaluate_qi(qi, histogram, Q) + np.random.laplace(0, 1.0 / eps_0)\n",
    "\n",
    "    total = sum(synthetic_histogram.values())\n",
    "    for iteration in range(100):\n",
    "        for qi in measurements:\n",
    "            q = Q[qi // (2*log_tau_mult+2)]\n",
    "            tau = (qi % (2*log_tau_mult+2) + 1) // 2\n",
    "            error = measurements[qi] - evaluate_qi(qi, synthetic_histogram, Q)\n",
    "            for age in range(q[0], q[1]+1):\n",
    "                for coeff in range(1,16):\n",
    "                    for expnt in range(u_trans):\n",
    "                        if (qi % 2 == 0):\n",
    "                            synthetic_histogram[(age, q[2], q[3], coeff, expnt)] *= math.exp(int(coeff * pow_16[expnt] > tau) * error / (2.0 * total))\n",
    "                        else: # trunc\n",
    "                            synthetic_histogram[(age, q[2], q[3], coeff, expnt)] *= math.exp(min(coeff * pow_16[expnt], tau) / tau * error / (2.0 * total))\n",
    "            count = sum(synthetic_histogram.values())\n",
    "            synthetic_histogram = {k: v*total / count for k,v in synthetic_histogram.items()}\n",
    "            \n",
    "synthetic_histogram_trunc = synthetic_histogram"
   ]
  },
  {
   "cell_type": "code",
   "execution_count": 12,
   "id": "1705c3c1",
   "metadata": {},
   "outputs": [
    {
     "name": "stdout",
     "output_type": "stream",
     "text": [
      "8668.08732342205\n"
     ]
    }
   ],
   "source": [
    "results_trunc = []\n",
    "\n",
    "errors = np.array([])\n",
    "for q in Q:\n",
    "    errors = np.append(errors, eps_0 * abs(evaluate_counting(q, histogram, 0) - evaluate_counting(q, synthetic_histogram_trunc, 0)) / 2.0) # counting tau = 0\n",
    "    tau = 1\n",
    "    while tau < GS:\n",
    "        errors = np.append(errors, \\\n",
    "                           [abs(evaluate(q, histogram, tau) - evaluate(q, synthetic_histogram_trunc, tau)) / tau,  # truncated by tau \\\n",
    "                            abs(evaluate_counting(q, histogram, tau) - evaluate_counting(q, synthetic_histogram_trunc, tau))]) # counting tau\n",
    "        tau *= tau_mult\n",
    "max_error = errors.max() + np.random.laplace(0, 10 / eps)\n",
    "print(max_error)\n",
    "\n",
    "for q in Q:\n",
    "    tau = 0\n",
    "    c = evaluate_counting(q, synthetic_histogram_trunc, 0)\n",
    "    if c <= max_error:\n",
    "        results_trunc.append(0)\n",
    "    else:\n",
    "        R = 1\n",
    "        while R < GS:\n",
    "            ans = evaluate_counting(q, synthetic_histogram_trunc, R)\n",
    "            if ans <= max_error:\n",
    "                break\n",
    "            else:\n",
    "                R = tau_mult * R\n",
    "        tau = min(GS, R)\n",
    "        res = evaluate(q, synthetic_histogram_trunc, tau)\n",
    "        results_trunc.append(res)\n",
    "\n",
    "errors_trunc = [x-y for x,y in zip(results_trunc, results)]"
   ]
  },
  {
   "cell_type": "markdown",
   "id": "2012efe0",
   "metadata": {},
   "source": [
    "# Negative"
   ]
  },
  {
   "cell_type": "code",
   "execution_count": 13,
   "id": "9f596aca",
   "metadata": {},
   "outputs": [],
   "source": [
    "# 0 <= gain <= GS\n",
    "# 1 <= log_gain <= u_trans\n",
    "\n",
    "GS = 2 ** 13\n",
    "eps = 1\n",
    "u_trans = math.ceil(math.log(GS) / math.log(16))\n",
    "\n",
    "data = neg_data"
   ]
  },
  {
   "cell_type": "code",
   "execution_count": 14,
   "id": "86ce7506",
   "metadata": {},
   "outputs": [
    {
     "name": "stdout",
     "output_type": "stream",
     "text": [
      "4180\n"
     ]
    }
   ],
   "source": [
    "Q = []\n",
    "\n",
    "for age_length in range(11): # 0 - 10\n",
    "    for age_left in range(1, 101-age_length): # [1, 1+length], ... , [100-length,100]\n",
    "        age_right = age_left+age_length\n",
    "        Q.append((age_left, age_right, False, False))\n",
    "        Q.append((age_left, age_right, False, True))\n",
    "        Q.append((age_left, age_right, True, False))\n",
    "        Q.append((age_left, age_right, True, True))\n",
    "\n",
    "print(len(Q))"
   ]
  },
  {
   "cell_type": "code",
   "execution_count": 15,
   "id": "831e8af5",
   "metadata": {},
   "outputs": [],
   "source": [
    "def evaluate(q, histogram, tau=GS):\n",
    "    ans = 0\n",
    "    for age in range(q[0], q[1]+1):\n",
    "        for coeff in range(1,16):\n",
    "            for expnt in range(u_trans):\n",
    "                x = (age, q[2], q[3], coeff, expnt)\n",
    "                if x in histogram:\n",
    "                    ans += min(coeff * pow_16[expnt],tau) * histogram[x]\n",
    "    return ans\n",
    "\n",
    "def evaluate_counting(q, histogram, tau):\n",
    "    ans = 0\n",
    "    for age in range(q[0], q[1]+1):\n",
    "        for coeff in range(1,16):\n",
    "            for expnt in range(u_trans):\n",
    "                x = (age, q[2], q[3], coeff, expnt)\n",
    "                if (x in histogram) and (coeff * pow_16[expnt] > tau):\n",
    "                    ans += histogram[x]\n",
    "    return ans\n",
    "\n",
    "def evaluate_raw(q, raw_histogram, tau=GS):\n",
    "    ans = 0\n",
    "    for x in raw_histogram:\n",
    "        age, housing, loan, cap = x\n",
    "        if (age >= q[0] and age <= q[1]):\n",
    "            if (housing == q[2] and loan== q[3]):\n",
    "                ans += min(cap, tau) * raw_histogram[x]\n",
    "    return ans\n",
    "\n",
    "# evaluate a counting query c_{q,tau} on the raw histogram\n",
    "def evaluate_counting_raw(q, raw_histogram, tau):\n",
    "    ans = 0\n",
    "    for x in raw_histogram:\n",
    "        age, housing, loan, cap = x\n",
    "        if (age >= q[0] and age <= q[1]):\n",
    "            if (housing == q[2] and loan== q[3]):\n",
    "                if (cap > tau):\n",
    "                    ans += raw_histogram[x]\n",
    "    return ans"
   ]
  },
  {
   "cell_type": "code",
   "execution_count": 16,
   "id": "e3f73d46",
   "metadata": {},
   "outputs": [],
   "source": [
    "raw_histogram = Counter(neg_raw_data)\n",
    "histogram = Counter(neg_data)\n",
    "neg_results = [evaluate(q, histogram) for q in Q]"
   ]
  },
  {
   "cell_type": "markdown",
   "id": "1c4e0655",
   "metadata": {},
   "source": [
    "## Composition"
   ]
  },
  {
   "cell_type": "code",
   "execution_count": 17,
   "id": "dde0567e",
   "metadata": {},
   "outputs": [],
   "source": [
    "eps_0 = eps / (2*len(Q))\n",
    "\n",
    "neg_results_compo = []\n",
    "for q_idx in range(len(Q)):\n",
    "    q = Q[q_idx]\n",
    "    T = np.random.laplace(0, 2 / eps_0) # threshold to compare with\n",
    "    \n",
    "    c = evaluate_counting_raw(q, raw_histogram, 0)\n",
    "    if (c + np.random.laplace(0, 4 / eps_0) < T):\n",
    "        neg_results_compo.append(0)\n",
    "        continue\n",
    "        \n",
    "    # else    \n",
    "    tau = 1\n",
    "    while (tau < GS):\n",
    "        c = evaluate_counting_raw(q, raw_histogram, tau)\n",
    "        if (c + np.random.laplace(0, 4 / eps_0) < T):\n",
    "            ans = evaluate_raw(q, raw_histogram, tau)\n",
    "            neg_results_compo.append(ans + np.random.laplace(0, tau / eps_0))\n",
    "            break\n",
    "        else:\n",
    "            tau = 2 * tau\n",
    "    if (tau >= GS):\n",
    "        neg_results_compo.append(neg_results[q_idx] + np.random.laplace(0, GS / eps_0))\n",
    "\n",
    "neg_errors_compo = [x-y for x,y in zip(neg_results_compo, neg_results)]"
   ]
  },
  {
   "cell_type": "markdown",
   "id": "777f1a71",
   "metadata": {},
   "source": [
    "## Normalization / Global Truncation"
   ]
  },
  {
   "cell_type": "code",
   "execution_count": 18,
   "id": "3f0b4300",
   "metadata": {},
   "outputs": [
    {
     "name": "stdout",
     "output_type": "stream",
     "text": [
      "iteration: 0\n",
      "iteration: 1\n",
      "iteration: 2\n",
      "iteration: 3\n",
      "iteration: 4\n",
      "iteration: 5\n",
      "iteration: 6\n",
      "iteration: 7\n",
      "iteration: 8\n",
      "iteration: 9\n"
     ]
    }
   ],
   "source": [
    "T = 10\n",
    "eps_0 = eps / u_trans / (2*T)\n",
    "universe_size = 100 * 4 * 15 * u_trans\n",
    "synthetic_histogram = {}\n",
    "\n",
    "for age in range(1, 101):\n",
    "    for coeff in range(1,16):\n",
    "        for expnt in range(u_trans):\n",
    "            synthetic_histogram[(age, False, False, coeff, expnt)] = n / universe_size\n",
    "            synthetic_histogram[(age, True, False, coeff, expnt)] = n / universe_size\n",
    "            synthetic_histogram[(age, False, True, coeff, expnt)] = n / universe_size\n",
    "            synthetic_histogram[(age, True, True, coeff, expnt)] = n / universe_size\n",
    "            \n",
    "measurements = {}\n",
    "for i in range(T):\n",
    "    print(\"iteration: \"+str(i))   \n",
    "    errors = np.array([])\n",
    "    for qi in range(len(Q)):\n",
    "        q = Q[qi]\n",
    "        errors = np.append(errors, eps_0 * abs(neg_results[qi] - evaluate(q, synthetic_histogram)) / GS / 2.0)\n",
    "    max_error = errors.max() \n",
    "    for qi in range(len(errors)):\n",
    "        if qi in measurements:\n",
    "            errors[qi] = 0.0\n",
    "        else:\n",
    "            errors[qi] = math.exp(errors[qi]-max_error)\n",
    "    qi = np.random.choice(range(len(errors)), p=errors / np.sum(errors))\n",
    "    \n",
    "    measurements[qi] = evaluate(Q[qi], histogram) + np.random.laplace(0, 1.0 / eps_0)\n",
    "    \n",
    "    total = sum(synthetic_histogram.values())\n",
    "    for iteration in range(100):\n",
    "        for qi in measurements:\n",
    "            q = Q[qi]\n",
    "            error = (measurements[qi] - evaluate(q, synthetic_histogram)) / GS\n",
    "            for age in range(q[0], q[1]+1):\n",
    "                for coeff in range(1,16):\n",
    "                    for expnt in range(u_trans):\n",
    "                        synthetic_histogram[(age, q[2], q[3], coeff, expnt)] *= math.exp(coeff * pow_16[expnt] / GS * error / (2.0 * total))\n",
    "            count = sum(synthetic_histogram.values())\n",
    "            synthetic_histogram = {k: v*total / count for k,v in synthetic_histogram.items()}\n",
    "\n",
    "synthetic_histogram_norm = synthetic_histogram\n",
    "neg_results_norm = [evaluate(q, synthetic_histogram_norm) for q in Q]\n",
    "neg_errors_norm = [x-y for x,y in zip(neg_results_norm, neg_results)]"
   ]
  },
  {
   "cell_type": "markdown",
   "id": "05e88478",
   "metadata": {},
   "source": [
    "## Ours"
   ]
  },
  {
   "cell_type": "code",
   "execution_count": 19,
   "id": "a799a638",
   "metadata": {},
   "outputs": [
    {
     "name": "stdout",
     "output_type": "stream",
     "text": [
      "iteration: 0\n",
      "iteration: 1\n",
      "iteration: 2\n",
      "iteration: 3\n",
      "iteration: 4\n",
      "iteration: 5\n",
      "iteration: 6\n",
      "iteration: 7\n",
      "iteration: 8\n",
      "iteration: 9\n"
     ]
    }
   ],
   "source": [
    "T = 10\n",
    "eps_0 = eps * 0.9 / u_trans / (2*T)\n",
    "tau_mult = 4\n",
    "log_tau_mult = int(math.ceil(math.log(GS) / math.log(tau_mult)))\n",
    "\n",
    "for age in range(1, 101):\n",
    "    for coeff in range(1,16):\n",
    "        for expnt in range(u_trans):\n",
    "            synthetic_histogram[(age, False, False, coeff, expnt)] = n / universe_size\n",
    "            synthetic_histogram[(age, True, False, coeff, expnt)] = n / universe_size\n",
    "            synthetic_histogram[(age, False, True, coeff, expnt)] = n / universe_size\n",
    "            synthetic_histogram[(age, True, True, coeff, expnt)] = n / universe_size\n",
    "\n",
    "def evaluate_qi(qi, histogram, Q):\n",
    "    q = Q[qi // (2*log_tau_mult+2)]\n",
    "    tau = (qi % (2*log_tau_mult+2) + 1) // 2\n",
    "    if qi % 2 == 0:\n",
    "        return evaluate_counting(q, histogram, tau)\n",
    "    else:\n",
    "        return evaluate(q, histogram, tau) / tau\n",
    "\n",
    "measurements = {}\n",
    "for i in range(T):\n",
    "    print(\"iteration: \"+str(i))\n",
    "    errors = np.array([])\n",
    "    for q in Q:\n",
    "        errors = np.append(errors, eps_0 * abs(evaluate_counting(q, histogram, 0) - evaluate_counting(q, synthetic_histogram, 0)) / 2.0) # counting tau = 0\n",
    "        tau = 1\n",
    "        while tau < GS:\n",
    "            errors = np.append(errors, \\\n",
    "                               [eps_0 * abs(evaluate(q, histogram, tau) - evaluate(q, synthetic_histogram, tau)) / tau / 2.0,  # truncated by tau \\\n",
    "                                eps_0 * abs(evaluate_counting(q, histogram, tau) - evaluate_counting(q, synthetic_histogram, tau)) / 2.0]) # counting tau\n",
    "            tau *= tau_mult\n",
    "        errors = np.append(errors, eps_0 * abs(evaluate(q, histogram, GS) - evaluate(q, synthetic_histogram, GS)) / GS / 2.0)\n",
    "    max_error = errors.max() \n",
    "    for qi in range(len(errors)):\n",
    "        if qi in measurements:\n",
    "            errors[qi] = 0.0\n",
    "        else:\n",
    "            errors[qi] = math.exp(errors[qi]-max_error)\n",
    "    qi = np.random.choice(range(len(errors)), p=errors / np.sum(errors))\n",
    "    \n",
    "    measurements[qi] = evaluate_qi(qi, histogram, Q) + np.random.laplace(0, 1.0 / eps_0)\n",
    "\n",
    "    total = sum(synthetic_histogram.values())\n",
    "    for iteration in range(100):\n",
    "        for qi in measurements:\n",
    "            q = Q[qi // (2*log_tau_mult+2)]\n",
    "            tau = (qi % (2*log_tau_mult+2) + 1) // 2\n",
    "            error = measurements[qi] - evaluate_qi(qi, synthetic_histogram, Q)\n",
    "            for age in range(q[0], q[1]+1):\n",
    "                for coeff in range(1,16):\n",
    "                    for expnt in range(u_trans):\n",
    "                        if (qi % 2 == 0): # counting\n",
    "                            synthetic_histogram[(age, q[2], q[3], coeff, expnt)] *= math.exp(int(coeff * pow_16[expnt] > tau) * error / (2.0 * total))\n",
    "                        else: # trunc\n",
    "                            synthetic_histogram[(age, q[2], q[3], coeff, expnt)] *= math.exp(min(coeff * pow_16[expnt], tau) / tau * error / (2.0 * total))\n",
    "            count = sum(synthetic_histogram.values())\n",
    "            synthetic_histogram = {k: v*total / count for k,v in synthetic_histogram.items()}\n",
    "            \n",
    "synthetic_histogram_trunc = synthetic_histogram"
   ]
  },
  {
   "cell_type": "code",
   "execution_count": 20,
   "id": "5f956831",
   "metadata": {},
   "outputs": [
    {
     "name": "stdout",
     "output_type": "stream",
     "text": [
      "3601.3097741162237\n"
     ]
    }
   ],
   "source": [
    "neg_results_trunc = []\n",
    "\n",
    "errors = np.array([])\n",
    "for q in Q:\n",
    "    errors = np.append(errors, eps_0 * abs(evaluate_counting(q, histogram, 0) - evaluate_counting(q, synthetic_histogram_trunc, 0)) / 2.0) # counting tau = 0\n",
    "    tau = 1\n",
    "    while tau < GS:\n",
    "        errors = np.append(errors, \\\n",
    "                           [abs(evaluate(q, histogram, tau) - evaluate(q, synthetic_histogram_trunc, tau)) / tau,  # truncated by tau \\\n",
    "                            abs(evaluate_counting(q, histogram, tau) - evaluate_counting(q, synthetic_histogram_trunc, tau))]) # counting tau\n",
    "        tau *= tau_mult\n",
    "max_error = errors.max() + np.random.laplace(0, 10 / eps)\n",
    "print(max_error)\n",
    "\n",
    "for q in Q:\n",
    "    tau = 0\n",
    "    c = evaluate_counting(q, synthetic_histogram_trunc, 0)\n",
    "    if c <= max_error:\n",
    "        # tau == 0\n",
    "        neg_results_trunc.append(0)\n",
    "    else:\n",
    "        R = 1\n",
    "        while R < GS:\n",
    "            ans = evaluate_counting(q, synthetic_histogram_trunc, R)\n",
    "            if ans <= max_error:\n",
    "                break\n",
    "            else:\n",
    "                R = tau_mult * R\n",
    "        tau = min(GS, R)\n",
    "        res = evaluate(q, synthetic_histogram_trunc, tau)\n",
    "        neg_results_trunc.append(res)\n",
    "\n",
    "neg_errors_trunc = [x-y for x,y in zip(neg_results_trunc, neg_results)]"
   ]
  },
  {
   "cell_type": "markdown",
   "id": "2b803aa9",
   "metadata": {},
   "source": [
    "# Combined"
   ]
  },
  {
   "cell_type": "code",
   "execution_count": 21,
   "id": "edf4af65",
   "metadata": {},
   "outputs": [],
   "source": [
    "results_full = [x-y for x,y in zip(results, neg_results)]\n",
    "results_compo_full = [x-y for x,y in zip(results_compo, neg_results_compo)]\n",
    "results_norm_full = [x-y for x,y in zip(results_norm, neg_results_norm)]\n",
    "results_trunc_full = [x-y for x,y in zip(results_trunc, neg_results_trunc)]"
   ]
  },
  {
   "cell_type": "code",
   "execution_count": 22,
   "id": "7d483889",
   "metadata": {},
   "outputs": [],
   "source": [
    "errors_compo_full = [x-y for x,y in zip(results_compo_full, results_full)]\n",
    "errors_norm_full = [x-y for x,y in zip(results_norm_full, results_full)]\n",
    "errors_trunc_full = [x-y for x,y in zip(results_trunc_full, results_full)]"
   ]
  },
  {
   "cell_type": "code",
   "execution_count": 23,
   "id": "f5aa4ad4",
   "metadata": {},
   "outputs": [
    {
     "data": {
      "image/png": "[encoded data removed]",
      "text/plain": [
       "<Figure size 432x288 with 1 Axes>"
      ]
     },
     "metadata": {
      "needs_background": "light"
     },
     "output_type": "display_data"
    }
   ],
   "source": [
    "plt.ylabel('Error')\n",
    "plt.boxplot([[abs(x) for x in errors_compo_full], [abs(x) for x in errors_norm_full], [abs(x) for x in errors_trunc_full]], \\\n",
    "            labels=['Composition', 'Normalization/Global', 'Ours'], whis=(25,100), showfliers=False)\n",
    "plt.yscale(\"symlog\")\n",
    "plt.show()"
   ]
  },
  {
   "cell_type": "code",
   "execution_count": null,
   "id": "5f3263f5",
   "metadata": {},
   "outputs": [],
   "source": []
  }
 ],
 "metadata": {
  "kernelspec": {
   "display_name": "Python 3",
   "language": "python",
   "name": "python3"
  },
  "language_info": {
   "codemirror_mode": {
    "name": "ipython",
    "version": 3
   },
   "file_extension": ".py",
   "mimetype": "text/x-python",
   "name": "python",
   "nbconvert_exporter": "python",
   "pygments_lexer": "ipython3",
   "version": "3.8.8"
  }
 },
 "nbformat": 4,
 "nbformat_minor": 5
}
